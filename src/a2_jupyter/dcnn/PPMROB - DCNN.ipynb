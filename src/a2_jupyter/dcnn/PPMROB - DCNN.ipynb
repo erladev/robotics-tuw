{
 "cells": [
  {
   "cell_type": "markdown",
   "id": "516a8a94",
   "metadata": {},
   "source": [
    "# PPMROB - Laborübung\n",
    "Dr. Dietmar Schreiner\n",
    "\n",
    "---"
   ]
  },
  {
   "cell_type": "markdown",
   "id": "f917224f",
   "metadata": {},
   "source": [
    "# Deep Convolutional Neural Networks in pyTorch"
   ]
  },
  {
   "cell_type": "markdown",
   "id": "186dc2fb",
   "metadata": {},
   "source": [
    "## Zielsetzung\n",
    "\n",
    "In dieser Laborübung wird ein __Image Classification__ Network für den Fashion-MNIST (NIST = National Institute of Standards and Technology; M = modified) Datenbestand entwickelt, trainiert und evaluiert.\n",
    "\n",
    "### Fashion-MNIST\n",
    "\n",
    "Der Fashion-MNIST Datenbestand hat sich aus dem MNIST Datenbestand entwickelt, welcher eine Sammlung von 70.000 handgeschriebenen Ziffern ist. Der MNIST Benchmark ist allerdings überaltet und stellt für moderne Methoden keine interessante Herausforderung mehr dar.\n",
    "\n",
    "<img src=\"img/mnist_example.png\" alt=\"MNIST\" style=\"height: 200px;\"/> \n",
    "\n",
    "Im Lauf der Zeit wurden zahlreiche neue Aufgabenstellungen und Datenbestände entwickelt, publiziert und auch weltweit akzeptiert. Einer davon ist der sogenannte Fashion-MNIST Datenbestand. ([Zalando Research](https://github.com/zalandoresearch/fashion-mnist))\n",
    "\n",
    "Wie der ursprpngliche MNIST Datenbestand enthält auch der Fashion-MNIST Datenbestand 70.000 Bilder, die nun aber keine Ziffern sondern Produkte aus dem Sortiment von Zalando enthalten. Für den Benchmark werden die Bilder gleich dem MNIST Benchmark im Verhältnis 6:1 zwischen Training und Test aufgeteilt.\n",
    "\n",
    "<td> <img src=\"img/fmnist.png\" alt=\"Fashion-MNIST\" style=\"height: 200px;\"/> </td>\n",
    "\n",
    "#### Klassen (Labels)\n",
    "\n",
    "Der Fashion-MNIST Datenbestand ist in 10 Klassen eingeteilt.\n",
    "\n",
    "Index | Klasse/Label\n",
    ":---|:---\n",
    "0 | T-Shirt/Top\n",
    "1 | Hose\n",
    "2 | Pullover\n",
    "3 | Kleid\n",
    "4 | Mantel/Jacke\n",
    "5 | Sandale\n",
    "6 | Hemd\n",
    "7 | Turnschuh\n",
    "8 | Tasche/Beutel\n",
    "9 | Stiefelette\n",
    "\n",
    "#### Bildformat\n",
    "\n",
    "* Jedes Bild entspricht der Auflösung __28 x 28__ und umfasst 748 Pixel.\n",
    "* Jedes Pixel wird durch ein Byte repräsentiert, das den Dunkelheitswert des Bildpunkts speichert (je dunkler, je höher der Wert). \n",
    "\n",
    "#### Datenformat\n",
    "\n",
    "* Jede Zeile im Datenbestand repräsentiert ein Bild.\n",
    "* Spalte 0 enthält das Label.\n",
    "* Die Spalten 1 bis 748 enthalten das Bild (Dunkelheitswerte).\n",
    "\n",
    "\n",
    "## Vorgehensweise\n",
    "\n",
    "Im Bereich Machine Learning sieht die typische Vorgehensweise wie folgt aus:\n",
    "\n",
    "* Vorbereiten der Daten\n",
    "* Entwickeln des Modells\n",
    "* Trainieren des Modells\n",
    "* Analyse und Evaluation der Ergebnisse\n"
   ]
  },
  {
   "cell_type": "markdown",
   "id": "f3104963",
   "metadata": {},
   "source": [
    "### Vorbereitung der Daten\n",
    "\n",
    "(Lern)Daten sind ein elementarer Baustein für die Leistungsfähigkeit eines Neuronalen Netzes. Die Vorbereitung bzw. die Aufbereitung der Daten spielt daher eine sehr wichtige Rolle. \n",
    "\n",
    "**Anmerkung: Datenherkunft**\n",
    "\n",
    "Da die zum Lernen benutzten Daten das Endergebnis des Lernprozesses definieren sind folgende Fragen von esentieller Wichtigkeit:\n",
    "\n",
    "- Wer hat den Datenbestand erzeugt?\n",
    "- Wie wurde der Datenbestand erzeugt?\n",
    "- Wurden die Daten einer Transformation unterzogen?\n",
    "- Mit welchem Ziel wurde der Datenbestand erstellt?\n",
    "- Ist der Datenbestand möglicherweise unausgewogen?\n",
    "\n",
    "#### ETL Prozess\n",
    "\n",
    "Der ETL Prozess zur Bereitstellung der Daten unterteilt sich in drei Schritte:\n",
    "\n",
    "* **E**xtract: Extrahieren der Daten aus einer Datenquelle\n",
    "* **T**ransform: Transformation der Daten in das gewünschte (eigene) Format\n",
    "* **L**oad: Laden der Daten in passende Datenstrukturen zur weiteren Analyse/Verarbeitung\n",
    "\n",
    "Für dieser Laborübung wird auf die vorhandenen Ressourcen des __torchvision__ Pakets zurückgegriffen. Diese sind:\n",
    "\n",
    "* __Datasets__ (z.B. MNIST, Fashion-MNIST)\n",
    "* __Models__ (z.B. vgg16)\n",
    "* Transforms\n",
    "* Utils\n",
    "\n",
    "__Aufgabe:__ Analyse des MNIST Packages, bzw. der Implementierung von Fashion-MNIST in ___torchvision___.\n",
    ">__Tip__: miniconda3 -> envs -> ppmrob -> Lib -> site-packages -> torchvision)\n",
    "\n"
   ]
  },
  {
   "cell_type": "markdown",
   "id": "38be8325",
   "metadata": {},
   "source": [
    "##### Exctract & Transform\n",
    "\n",
    "Im ersten Schritt werden die Fashion-MNIST Bilddaten von der Datenquelle extrahiert. Im zweiten Schritt werden die Bilddaten in einen pyTorch Tensor übertragen. \n",
    "\n",
    "In pyTorch steht dazu die Klassen ___Dataset___ (abstrakte Klasse) zur Verfügung. Eine Kindklasse der abstrakten __Dataset__ Klasse muss zwingend eine Implementierung der Methoden __\\_\\_getitem()\\_\\___ und __\\_\\_len()\\_\\___ enthalten.\n",
    "\n",
    "```python\n",
    "class MyDataset(Dataset):\n",
    "    ...\n",
    "    def __getitem__(self, index):\n",
    "        ...\n",
    "        return sample, label\n",
    "    def __len__(self):\n",
    "        ...\n",
    "        return lenOfMyDataset\n",
    "    ...\n",
    "```\n",
    "\n",
    "Die vom ___torchvision___ Paket bereitgestellte Implementierung für den Fashion-MNIST Datenbestand erledigt Extraktion und Transformation innerhalb des Konstruktors der Fashion-MNIST Klasse.\n",
    "\n"
   ]
  },
  {
   "cell_type": "code",
   "execution_count": 1,
   "id": "58a28110",
   "metadata": {},
   "outputs": [],
   "source": [
    "import torch\n",
    "import torchvision\n",
    "import torchvision.transforms as transforms"
   ]
  },
  {
   "cell_type": "code",
   "execution_count": 2,
   "id": "ba00328f",
   "metadata": {},
   "outputs": [
    {
     "name": "stdout",
     "output_type": "stream",
     "text": [
      "2.5.1\n",
      "0.20.1\n"
     ]
    }
   ],
   "source": [
    "# for reference purpose\n",
    "print(torch.__version__)\n",
    "print(torchvision.__version__)"
   ]
  },
  {
   "cell_type": "code",
   "execution_count": 3,
   "id": "95e5745a",
   "metadata": {},
   "outputs": [
    {
     "name": "stdout",
     "output_type": "stream",
     "text": [
      "Downloading http://fashion-mnist.s3-website.eu-central-1.amazonaws.com/train-images-idx3-ubyte.gz\n",
      "Downloading http://fashion-mnist.s3-website.eu-central-1.amazonaws.com/train-images-idx3-ubyte.gz to ./data/FashionMNIST/raw/train-images-idx3-ubyte.gz\n"
     ]
    },
    {
     "name": "stderr",
     "output_type": "stream",
     "text": [
      "100.0%\n"
     ]
    },
    {
     "name": "stdout",
     "output_type": "stream",
     "text": [
      "Extracting ./data/FashionMNIST/raw/train-images-idx3-ubyte.gz to ./data/FashionMNIST/raw\n",
      "\n",
      "Downloading http://fashion-mnist.s3-website.eu-central-1.amazonaws.com/train-labels-idx1-ubyte.gz\n",
      "Downloading http://fashion-mnist.s3-website.eu-central-1.amazonaws.com/train-labels-idx1-ubyte.gz to ./data/FashionMNIST/raw/train-labels-idx1-ubyte.gz\n"
     ]
    },
    {
     "name": "stderr",
     "output_type": "stream",
     "text": [
      "100.0%\n"
     ]
    },
    {
     "name": "stdout",
     "output_type": "stream",
     "text": [
      "Extracting ./data/FashionMNIST/raw/train-labels-idx1-ubyte.gz to ./data/FashionMNIST/raw\n",
      "\n",
      "Downloading http://fashion-mnist.s3-website.eu-central-1.amazonaws.com/t10k-images-idx3-ubyte.gz\n",
      "Downloading http://fashion-mnist.s3-website.eu-central-1.amazonaws.com/t10k-images-idx3-ubyte.gz to ./data/FashionMNIST/raw/t10k-images-idx3-ubyte.gz\n"
     ]
    },
    {
     "name": "stderr",
     "output_type": "stream",
     "text": [
      "100.0%\n"
     ]
    },
    {
     "name": "stdout",
     "output_type": "stream",
     "text": [
      "Extracting ./data/FashionMNIST/raw/t10k-images-idx3-ubyte.gz to ./data/FashionMNIST/raw\n",
      "\n",
      "Downloading http://fashion-mnist.s3-website.eu-central-1.amazonaws.com/t10k-labels-idx1-ubyte.gz\n",
      "Downloading http://fashion-mnist.s3-website.eu-central-1.amazonaws.com/t10k-labels-idx1-ubyte.gz to ./data/FashionMNIST/raw/t10k-labels-idx1-ubyte.gz\n"
     ]
    },
    {
     "name": "stderr",
     "output_type": "stream",
     "text": [
      "100.0%"
     ]
    },
    {
     "name": "stdout",
     "output_type": "stream",
     "text": [
      "Extracting ./data/FashionMNIST/raw/t10k-labels-idx1-ubyte.gz to ./data/FashionMNIST/raw\n",
      "\n"
     ]
    },
    {
     "name": "stderr",
     "output_type": "stream",
     "text": [
      "\n"
     ]
    }
   ],
   "source": [
    "train_set = torchvision.datasets.FashionMNIST(\n",
    "    root = './data', # target directory for dataset\n",
    "    train = True, # select partition from which the data is taken from\n",
    "    download = True, # download if data does not exist\n",
    "    transform = transforms.Compose([transforms.ToTensor()]) # transform raw image data to tensow\n",
    ")"
   ]
  },
  {
   "cell_type": "markdown",
   "id": "7f08a92b",
   "metadata": {},
   "source": [
    "__Aufgabe:__ Analyse des Fashion-MNIST Datenbestandes."
   ]
  },
  {
   "cell_type": "markdown",
   "id": "f4d8a7b3",
   "metadata": {},
   "source": [
    "##### Load\n",
    "\n",
    "Im dritten Schritt werden die Daten in ein Objekt verpackt, das den Datenzugriff und die Verwendung der Daten erleichtert. In pyTorch steht dazu die Klasse ___DataLoader___ zur Verfügung.\n"
   ]
  },
  {
   "cell_type": "code",
   "execution_count": 4,
   "id": "b2654363",
   "metadata": {},
   "outputs": [],
   "source": [
    "train_loader = torch.utils.data.DataLoader(\n",
    "    train_set, # dataset to operate on\n",
    "    batch_size=10 # batch size for the DL operation, default is 1\n",
    ")        "
   ]
  },
  {
   "cell_type": "markdown",
   "id": "3cc845d1",
   "metadata": {},
   "source": [
    "##### Arbeiten mit den Daten"
   ]
  },
  {
   "cell_type": "code",
   "execution_count": 5,
   "id": "574e7824",
   "metadata": {},
   "outputs": [],
   "source": [
    "import numpy as np\n",
    "import matplotlib.pyplot as plt # conda install -c conda-forge matplotlib\n",
    "\n",
    "torch.set_printoptions(linewidth=120)"
   ]
  },
  {
   "cell_type": "markdown",
   "id": "cfe8cf32",
   "metadata": {},
   "source": [
    "###### Allgemeine Struktur des Datenbestands"
   ]
  },
  {
   "cell_type": "code",
   "execution_count": 6,
   "id": "d33abdb7",
   "metadata": {},
   "outputs": [
    {
     "data": {
      "text/plain": [
       "60000"
      ]
     },
     "execution_count": 6,
     "metadata": {},
     "output_type": "execute_result"
    }
   ],
   "source": [
    "len(train_set) # size of dataset"
   ]
  },
  {
   "cell_type": "code",
   "execution_count": 7,
   "id": "34deb436",
   "metadata": {},
   "outputs": [
    {
     "data": {
      "text/plain": [
       "tensor([9, 0, 0,  ..., 3, 0, 5])"
      ]
     },
     "execution_count": 7,
     "metadata": {},
     "output_type": "execute_result"
    }
   ],
   "source": [
    "train_set.targets # labels of all images within the dataset"
   ]
  },
  {
   "cell_type": "code",
   "execution_count": 8,
   "id": "be9a60f3",
   "metadata": {},
   "outputs": [
    {
     "data": {
      "text/plain": [
       "tensor([6000, 6000, 6000, 6000, 6000, 6000, 6000, 6000, 6000, 6000])"
      ]
     },
     "execution_count": 8,
     "metadata": {},
     "output_type": "execute_result"
    }
   ],
   "source": [
    "train_set.targets.bincount() # frequency distribution of labels within tensor"
   ]
  },
  {
   "cell_type": "markdown",
   "id": "5854e63d",
   "metadata": {},
   "source": [
    "Da alle Bins gleich viele Elemente anthalten wird dieser Datenbestand als ausgewogen (_balanced_) bezeichnet. Stehen die Ausgangsdaten nur unausgewogen (_unbalanced_) zur Verfügung ist es i.d.R. sinnvoll die Ausgewogenheit herzustellen, indem Elemente in unterrepräsentierten Klassen dupliziert werden (___Oversampling___)."
   ]
  },
  {
   "cell_type": "markdown",
   "id": "c4627813",
   "metadata": {},
   "source": [
    "###### Datenzugriff"
   ]
  },
  {
   "cell_type": "code",
   "execution_count": 9,
   "id": "19c66df1",
   "metadata": {},
   "outputs": [],
   "source": [
    "sample = next(iter(train_set)) # get next single sample from stream of iterable objects"
   ]
  },
  {
   "cell_type": "code",
   "execution_count": 10,
   "id": "49c37364",
   "metadata": {},
   "outputs": [
    {
     "data": {
      "text/plain": [
       "2"
      ]
     },
     "execution_count": 10,
     "metadata": {},
     "output_type": "execute_result"
    }
   ],
   "source": [
    "len(sample)"
   ]
  },
  {
   "cell_type": "code",
   "execution_count": 11,
   "id": "d65d56e7",
   "metadata": {},
   "outputs": [
    {
     "data": {
      "text/plain": [
       "tuple"
      ]
     },
     "execution_count": 11,
     "metadata": {},
     "output_type": "execute_result"
    }
   ],
   "source": [
    "type(sample)"
   ]
  },
  {
   "cell_type": "code",
   "execution_count": 12,
   "id": "b160a3ca",
   "metadata": {},
   "outputs": [],
   "source": [
    "image, label = sample # get image and lable via python's sequence unpacking mechanism"
   ]
  },
  {
   "cell_type": "code",
   "execution_count": 13,
   "id": "71008019",
   "metadata": {},
   "outputs": [
    {
     "data": {
      "text/plain": [
       "torch.Size([1, 28, 28])"
      ]
     },
     "execution_count": 13,
     "metadata": {},
     "output_type": "execute_result"
    }
   ],
   "source": [
    "image.shape # examine shape of image tensor"
   ]
  },
  {
   "cell_type": "code",
   "execution_count": 14,
   "id": "28ebc22c",
   "metadata": {},
   "outputs": [
    {
     "name": "stdout",
     "output_type": "stream",
     "text": [
      "label: 9\n"
     ]
    },
    {
     "data": {
      "image/png": "[encoded data removed]",
      "text/plain": [
       "<Figure size 640x480 with 1 Axes>"
      ]
     },
     "metadata": {},
     "output_type": "display_data"
    }
   ],
   "source": [
    "plt.imshow(image.squeeze(),cmap='gray')\n",
    "print('label:', label)"
   ]
  },
  {
   "cell_type": "code",
   "execution_count": 15,
   "id": "269263f5",
   "metadata": {},
   "outputs": [
    {
     "data": {
      "text/plain": [
       "int"
      ]
     },
     "execution_count": 15,
     "metadata": {},
     "output_type": "execute_result"
    }
   ],
   "source": [
    "type(sample[1])"
   ]
  },
  {
   "cell_type": "markdown",
   "id": "5a5f87e4",
   "metadata": {},
   "source": [
    "###### Batches\n",
    "\n",
    "Batches sind eine Zudammenfassung von mehreren (_n_) Bildern, also ein Tensor aus _n_ Bild-Tensoren."
   ]
  },
  {
   "cell_type": "code",
   "execution_count": 16,
   "id": "c4dce554",
   "metadata": {},
   "outputs": [],
   "source": [
    "batch = next(iter(train_loader)) # get batch from train_loader (not train_data!)"
   ]
  },
  {
   "cell_type": "code",
   "execution_count": 17,
   "id": "570318e9",
   "metadata": {},
   "outputs": [
    {
     "data": {
      "text/plain": [
       "2"
      ]
     },
     "execution_count": 17,
     "metadata": {},
     "output_type": "execute_result"
    }
   ],
   "source": [
    "len(batch)"
   ]
  },
  {
   "cell_type": "code",
   "execution_count": 18,
   "id": "913cee9b",
   "metadata": {},
   "outputs": [
    {
     "data": {
      "text/plain": [
       "list"
      ]
     },
     "execution_count": 18,
     "metadata": {},
     "output_type": "execute_result"
    }
   ],
   "source": [
    "type(batch)"
   ]
  },
  {
   "cell_type": "code",
   "execution_count": 19,
   "id": "87112a82",
   "metadata": {},
   "outputs": [
    {
     "data": {
      "text/plain": [
       "torch.Tensor"
      ]
     },
     "execution_count": 19,
     "metadata": {},
     "output_type": "execute_result"
    }
   ],
   "source": [
    "type(batch[0])"
   ]
  },
  {
   "cell_type": "code",
   "execution_count": 20,
   "id": "a06e5cb9",
   "metadata": {},
   "outputs": [
    {
     "data": {
      "text/plain": [
       "torch.Tensor"
      ]
     },
     "execution_count": 20,
     "metadata": {},
     "output_type": "execute_result"
    }
   ],
   "source": [
    "type(batch[1])"
   ]
  },
  {
   "cell_type": "code",
   "execution_count": 21,
   "id": "26c228e7",
   "metadata": {},
   "outputs": [],
   "source": [
    "images, labels = batch"
   ]
  },
  {
   "cell_type": "code",
   "execution_count": 22,
   "id": "95523636",
   "metadata": {},
   "outputs": [
    {
     "data": {
      "text/plain": [
       "torch.Size([10, 1, 28, 28])"
      ]
     },
     "execution_count": 22,
     "metadata": {},
     "output_type": "execute_result"
    }
   ],
   "source": [
    "images.shape"
   ]
  },
  {
   "cell_type": "code",
   "execution_count": 23,
   "id": "6f7005c6",
   "metadata": {},
   "outputs": [
    {
     "data": {
      "text/plain": [
       "torch.Size([10])"
      ]
     },
     "execution_count": 23,
     "metadata": {},
     "output_type": "execute_result"
    }
   ],
   "source": [
    "labels.shape"
   ]
  },
  {
   "cell_type": "code",
   "execution_count": 24,
   "id": "de4bacdd",
   "metadata": {},
   "outputs": [
    {
     "name": "stdout",
     "output_type": "stream",
     "text": [
      "labels: tensor([9, 0, 0, 3, 0, 2, 7, 2, 5, 5])\n"
     ]
    },
    {
     "data": {
      "image/png": "[encoded data removed]",
      "text/plain": [
       "<Figure size 1500x1500 with 1 Axes>"
      ]
     },
     "metadata": {},
     "output_type": "display_data"
    }
   ],
   "source": [
    "grid = torchvision.utils.make_grid(images, nrow=10)\n",
    "plt.figure(figsize=(15,15)) # figure size 15x15\n",
    "plt.imshow(np.transpose(grid,(1,2,0)))\n",
    "\n",
    "print('labels:', labels)"
   ]
  },
  {
   "cell_type": "markdown",
   "id": "805c6296",
   "metadata": {},
   "source": [
    "### Entwickeln des Modells\n",
    "\n",
    "Mit dem Begriff Modell (model) wird _das Neuronale Netzwerk selbst_, dessen Architektur, Parameter (learnable) und Hyperparameter, bezeichnet.\n",
    "\n",
    "Um ein Model zu entwickeln wird von PyTorch im Package ___torch.nn___ umfangreiche Funktionalität zur Verfügung gestellt, die dem OO-Paradigma folgt. Die Basisklasse für alle Neuronalen Netzwerke, wie auch für alle Module (Schichten mit trainierbaren Parametern) eines Neuronalen Netzes ist die Klasse ___Module___. Diese ist unter anderem zuständig für das Registrieren der trainierbaren Gewichte (Parameter) der Module.\n",
    "\n",
    "Die Implementierung eines Neuronalen Netzes in PyTorch efolgt in folgenden Schritten:\n",
    "\n",
    "* Erweitern der Basisklasse ___torch.nn.Module___\n",
    "* Hinzufügen der Layer in Form von Klassenattributen\n",
    "* Implementierung des Forward Passes des Neuronalen Netzes in der Methode ___forward()___\n",
    "\n",
    "#### Erweiterung der Basisklasse & Hinzufügen der Layer\n",
    "\n",
    "Um ein Neuronales Netz zu spezifizieren muss dessen Klasse von ___torch.nn.Module___ erben. Im  Konstruktor werden alle Layer des Neuronalen Netzes als Klassenattribute hinzugefügt. Die Layer selbst sind wieder Kinder der Basisklasse ___torch.nn.Module___.\n",
    "\n",
    "```python\n",
    "import torch.nn as nn\n",
    "\n",
    "class MyModel(nn.Module):\n",
    "    ...\n",
    "    def __init__(self):\n",
    "        super().__init__()\n",
    "        # define architecture here\n",
    "        # ...\n",
    "    ...\n",
    "```\n",
    "\n",
    "In PyTorch sind einige häufig benötigte Typen von Layer bereits vorimplementiert. Diese sind z.B.:\n",
    "\n",
    "* Linear Layers\n",
    "* Convolutional Layers\n",
    "* Reccurent Layers\n",
    "* Transformers\n",
    "* Data Manipulation Layers\n",
    "    * Max pooling Layers\n",
    "    * Normalization Layers\n",
    "    * Dropout Layers\n",
    "\n",
    "#### Forward Pass\n",
    "\n",
    "Der Datenfluss durch das Neuronale Netz wird in der Implementierung der Funktion ___forward()___ konkretisiert. Dabei wird mittels Fuktionskomposition der einzelnen Layer und Funktionale eine zusammengesetzte \"Gesamtfunktion\" des Moduls/NNs realsiert. \n",
    "PyTorch stellt im Paket ___torch.nn.functional___ zusätzlich für Neuronale Netze typische Funktionen, wie z.B. ___ReLU___ oder ___SoftMax___ zur Verfügung.\n",
    "\n",
    "```python\n",
    "import torch.nn as nn\n",
    "\n",
    "class MyModel(nn.Module):\n",
    "    ...\n",
    "    def forward(self, t):\n",
    "        # implement forward pass for the NN here\n",
    "        # the overall forward pass is simply a function concatenation\n",
    "        # ...\n",
    "        return t\n",
    "    ...   \n",
    "```\n",
    "\n",
    "Die Funktion ___forward()___ wird in PyTorch vom Funktor der Klasse (**\\_\\_call()\\_\\_**) aufgerufen, wenn eine Forward Propagation berechnet werden soll.\n",
    "\n",
    "```python\n",
    "# instantiate my neural network\n",
    "my_model = MyModel()\n",
    "\n",
    "# now feed in an input_tensor for the network's forward pass\n",
    "my_model(input_tensor)\n",
    "```\n",
    "\n",
    "\n",
    "\n",
    "#### Beispiel für ein einfaches Neuronales Netz\n",
    "\n",
    "Beispielhaft soll folgendes Neuronales Netz mit 100 Input-Neuronen implementiert werden, das ein Hidden-Layer mit 200 Neuronen und ein Output-Layer mit 10 Neuronen besitzt. Alle Layer sind _dense_.\n",
    "\n",
    "<img src=\"img/nn_example.png\" alt=\"MNIST\" style=\"height: 350px;\" align=\"left\"/> \n"
   ]
  },
  {
   "cell_type": "code",
   "execution_count": 25,
   "id": "5e7a9661",
   "metadata": {},
   "outputs": [],
   "source": [
    "import torch.nn as nn\n",
    "import torch.nn.functional as fn"
   ]
  },
  {
   "cell_type": "code",
   "execution_count": 26,
   "id": "08c40bc9",
   "metadata": {},
   "outputs": [],
   "source": [
    "class MyModel(nn.Module):\n",
    "    def __init__(self):\n",
    "        super().__init__()\n",
    "        \n",
    "        self.linear1 = nn.Linear(100, 200) # Hyper parameters, manually chosen\n",
    "        self.activation = nn.ReLU()\n",
    "        self.linear2 = nn.Linear(200, 10) # Hyper parameters, manually chosen\n",
    "        self.softmax = nn.Softmax()\n",
    "        \n",
    "    def forward(self, t):\n",
    "        t = self.linear1(t)\n",
    "        t = self.activation(t)\n",
    "        t = self.linear2(t)\n",
    "        t = self.softmax(t)\n",
    "        return(t)\n",
    "    \n",
    "my_model = MyModel()"
   ]
  },
  {
   "cell_type": "code",
   "execution_count": 27,
   "id": "1fbea164",
   "metadata": {},
   "outputs": [
    {
     "data": {
      "text/plain": [
       "MyModel(\n",
       "  (linear1): Linear(in_features=100, out_features=200, bias=True)\n",
       "  (activation): ReLU()\n",
       "  (linear2): Linear(in_features=200, out_features=10, bias=True)\n",
       "  (softmax): Softmax(dim=None)\n",
       ")"
      ]
     },
     "execution_count": 27,
     "metadata": {},
     "output_type": "execute_result"
    }
   ],
   "source": [
    "# show my_model\n",
    "my_model"
   ]
  },
  {
   "cell_type": "code",
   "execution_count": 28,
   "id": "195424e1",
   "metadata": {},
   "outputs": [
    {
     "data": {
      "text/plain": [
       "Linear(in_features=200, out_features=10, bias=True)"
      ]
     },
     "execution_count": 28,
     "metadata": {},
     "output_type": "execute_result"
    }
   ],
   "source": [
    "# show specific layer of my_model\n",
    "my_model.linear2"
   ]
  },
  {
   "cell_type": "code",
   "execution_count": 29,
   "id": "bdfc4fa4",
   "metadata": {},
   "outputs": [
    {
     "name": "stdout",
     "output_type": "stream",
     "text": [
      "Module\n"
     ]
    }
   ],
   "source": [
    "# show type of specific layer of my_model\n",
    "for base in my_model.linear1.__class__.__bases__:\n",
    "    print(base.__name__)"
   ]
  },
  {
   "cell_type": "code",
   "execution_count": 30,
   "id": "a0f8476e",
   "metadata": {},
   "outputs": [
    {
     "name": "stdout",
     "output_type": "stream",
     "text": [
      "Parameter containing:\n",
      "tensor([[ 0.0541,  0.0655, -0.0947,  ..., -0.0951,  0.0818, -0.0269],\n",
      "        [ 0.0130, -0.0717, -0.0305,  ..., -0.0404,  0.0701,  0.0429],\n",
      "        [-0.0484, -0.0881, -0.0626,  ..., -0.0766,  0.0164,  0.0086],\n",
      "        ...,\n",
      "        [ 0.0486, -0.0291,  0.0901,  ..., -0.0126,  0.0192, -0.0082],\n",
      "        [-0.0484, -0.0788, -0.0680,  ..., -0.0135,  0.0201,  0.0292],\n",
      "        [-0.0017,  0.0644,  0.0404,  ..., -0.0825, -0.0227, -0.0434]], requires_grad=True)\n",
      "torch.Size([200, 100])\n",
      "Parameter containing:\n",
      "tensor([ 0.0058, -0.0441,  0.0486, -0.0342, -0.0045,  0.0686, -0.0941, -0.0052,  0.0296, -0.0353,  0.0634, -0.0058,\n",
      "        -0.0053, -0.0214,  0.0624, -0.0095, -0.0180, -0.0516, -0.0084,  0.0084, -0.0377, -0.0945,  0.0243, -0.0251,\n",
      "         0.0443,  0.0631, -0.0233, -0.0930,  0.0145, -0.0082,  0.0746,  0.0669,  0.0121, -0.0641, -0.0097, -0.0609,\n",
      "         0.0601,  0.0283, -0.0511,  0.0832, -0.0314,  0.0898, -0.0924, -0.0645, -0.0095, -0.0990, -0.0853, -0.0889,\n",
      "         0.0034, -0.0869, -0.0966,  0.0251,  0.0108, -0.0528, -0.0311,  0.0412,  0.0985,  0.0019, -0.0038,  0.0476,\n",
      "         0.0516, -0.0831,  0.0163,  0.0248, -0.0274, -0.0760, -0.0718, -0.0656, -0.0452,  0.0481, -0.0116, -0.0018,\n",
      "         0.0398, -0.0646, -0.0399, -0.0195, -0.0238, -0.0222,  0.0590, -0.0148,  0.0649,  0.0245,  0.0921,  0.0221,\n",
      "         0.0818, -0.0474, -0.0950, -0.0056,  0.0232,  0.0911, -0.0457,  0.0913, -0.0420, -0.0763, -0.0071, -0.0168,\n",
      "        -0.0259, -0.0294,  0.0621, -0.0592,  0.0659,  0.0423,  0.0529, -0.0912,  0.0796,  0.0194, -0.0356,  0.0380,\n",
      "        -0.0851, -0.0224, -0.0706,  0.0985,  0.0300, -0.0110, -0.0262, -0.0510,  0.0062,  0.0022, -0.0536, -0.0012,\n",
      "        -0.0191,  0.0608, -0.0582,  0.0198, -0.0778,  0.0684, -0.0177,  0.0698, -0.0594, -0.0267, -0.0176,  0.0356,\n",
      "         0.0495,  0.0072, -0.0716,  0.0944,  0.0143, -0.0600, -0.0151,  0.0078,  0.0213,  0.0010,  0.0596, -0.0891,\n",
      "         0.0280,  0.0951,  0.0905,  0.0274, -0.0429,  0.0389, -0.0911,  0.0883,  0.0133,  0.0783, -0.0788, -0.0972,\n",
      "         0.0967, -0.0844, -0.0262, -0.0553, -0.0146, -0.0379, -0.0180, -0.0698, -0.0798, -0.0130, -0.0416,  0.0540,\n",
      "         0.0611, -0.0012,  0.0977, -0.0735, -0.0081, -0.0732,  0.0858, -0.0905, -0.0481,  0.0558,  0.0445,  0.0404,\n",
      "        -0.0953,  0.0734,  0.0440, -0.0395,  0.0302, -0.0113, -0.0731, -0.0431,  0.0847,  0.0258, -0.0954,  0.0944,\n",
      "         0.0030,  0.0251, -0.0674,  0.0728, -0.0219, -0.0893, -0.0507, -0.0956], requires_grad=True)\n",
      "torch.Size([200])\n",
      "Parameter containing:\n",
      "tensor([[ 0.0509, -0.0101, -0.0230,  ...,  0.0309, -0.0538, -0.0682],\n",
      "        [ 0.0620,  0.0506, -0.0262,  ..., -0.0652, -0.0622, -0.0099],\n",
      "        [ 0.0575,  0.0183,  0.0539,  ...,  0.0491, -0.0453, -0.0643],\n",
      "        ...,\n",
      "        [ 0.0610,  0.0704,  0.0707,  ..., -0.0263,  0.0108, -0.0363],\n",
      "        [-0.0150, -0.0474,  0.0211,  ...,  0.0169,  0.0511, -0.0320],\n",
      "        [-0.0358,  0.0149, -0.0269,  ...,  0.0189, -0.0598,  0.0702]], requires_grad=True)\n",
      "torch.Size([10, 200])\n",
      "Parameter containing:\n",
      "tensor([ 0.0635, -0.0345, -0.0455, -0.0552, -0.0446,  0.0323,  0.0242, -0.0336,  0.0702,  0.0163], requires_grad=True)\n",
      "torch.Size([10])\n"
     ]
    }
   ],
   "source": [
    "# show my_model parameters\n",
    "for param in my_model.parameters():\n",
    "    print(param)\n",
    "    print(param.shape)"
   ]
  },
  {
   "cell_type": "code",
   "execution_count": 31,
   "id": "dccbad9e",
   "metadata": {},
   "outputs": [
    {
     "name": "stdout",
     "output_type": "stream",
     "text": [
      "Parameter containing:\n",
      "tensor([[ 0.0541,  0.0655, -0.0947,  ..., -0.0951,  0.0818, -0.0269],\n",
      "        [ 0.0130, -0.0717, -0.0305,  ..., -0.0404,  0.0701,  0.0429],\n",
      "        [-0.0484, -0.0881, -0.0626,  ..., -0.0766,  0.0164,  0.0086],\n",
      "        ...,\n",
      "        [ 0.0486, -0.0291,  0.0901,  ..., -0.0126,  0.0192, -0.0082],\n",
      "        [-0.0484, -0.0788, -0.0680,  ..., -0.0135,  0.0201,  0.0292],\n",
      "        [-0.0017,  0.0644,  0.0404,  ..., -0.0825, -0.0227, -0.0434]], requires_grad=True)\n",
      "torch.Size([200, 100])\n",
      "Parameter containing:\n",
      "tensor([ 0.0058, -0.0441,  0.0486, -0.0342, -0.0045,  0.0686, -0.0941, -0.0052,  0.0296, -0.0353,  0.0634, -0.0058,\n",
      "        -0.0053, -0.0214,  0.0624, -0.0095, -0.0180, -0.0516, -0.0084,  0.0084, -0.0377, -0.0945,  0.0243, -0.0251,\n",
      "         0.0443,  0.0631, -0.0233, -0.0930,  0.0145, -0.0082,  0.0746,  0.0669,  0.0121, -0.0641, -0.0097, -0.0609,\n",
      "         0.0601,  0.0283, -0.0511,  0.0832, -0.0314,  0.0898, -0.0924, -0.0645, -0.0095, -0.0990, -0.0853, -0.0889,\n",
      "         0.0034, -0.0869, -0.0966,  0.0251,  0.0108, -0.0528, -0.0311,  0.0412,  0.0985,  0.0019, -0.0038,  0.0476,\n",
      "         0.0516, -0.0831,  0.0163,  0.0248, -0.0274, -0.0760, -0.0718, -0.0656, -0.0452,  0.0481, -0.0116, -0.0018,\n",
      "         0.0398, -0.0646, -0.0399, -0.0195, -0.0238, -0.0222,  0.0590, -0.0148,  0.0649,  0.0245,  0.0921,  0.0221,\n",
      "         0.0818, -0.0474, -0.0950, -0.0056,  0.0232,  0.0911, -0.0457,  0.0913, -0.0420, -0.0763, -0.0071, -0.0168,\n",
      "        -0.0259, -0.0294,  0.0621, -0.0592,  0.0659,  0.0423,  0.0529, -0.0912,  0.0796,  0.0194, -0.0356,  0.0380,\n",
      "        -0.0851, -0.0224, -0.0706,  0.0985,  0.0300, -0.0110, -0.0262, -0.0510,  0.0062,  0.0022, -0.0536, -0.0012,\n",
      "        -0.0191,  0.0608, -0.0582,  0.0198, -0.0778,  0.0684, -0.0177,  0.0698, -0.0594, -0.0267, -0.0176,  0.0356,\n",
      "         0.0495,  0.0072, -0.0716,  0.0944,  0.0143, -0.0600, -0.0151,  0.0078,  0.0213,  0.0010,  0.0596, -0.0891,\n",
      "         0.0280,  0.0951,  0.0905,  0.0274, -0.0429,  0.0389, -0.0911,  0.0883,  0.0133,  0.0783, -0.0788, -0.0972,\n",
      "         0.0967, -0.0844, -0.0262, -0.0553, -0.0146, -0.0379, -0.0180, -0.0698, -0.0798, -0.0130, -0.0416,  0.0540,\n",
      "         0.0611, -0.0012,  0.0977, -0.0735, -0.0081, -0.0732,  0.0858, -0.0905, -0.0481,  0.0558,  0.0445,  0.0404,\n",
      "        -0.0953,  0.0734,  0.0440, -0.0395,  0.0302, -0.0113, -0.0731, -0.0431,  0.0847,  0.0258, -0.0954,  0.0944,\n",
      "         0.0030,  0.0251, -0.0674,  0.0728, -0.0219, -0.0893, -0.0507, -0.0956], requires_grad=True)\n",
      "torch.Size([200])\n"
     ]
    }
   ],
   "source": [
    "# show parameters of specific layer of my_model\n",
    "for param in my_model.linear1.parameters():\n",
    "    print(param)\n",
    "    print(param.shape)"
   ]
  },
  {
   "cell_type": "code",
   "execution_count": 32,
   "id": "cd699e7b",
   "metadata": {},
   "outputs": [
    {
     "name": "stdout",
     "output_type": "stream",
     "text": [
      "linear1.weight \t\t torch.Size([200, 100])\n",
      "linear1.bias \t\t torch.Size([200])\n",
      "linear2.weight \t\t torch.Size([10, 200])\n",
      "linear2.bias \t\t torch.Size([10])\n"
     ]
    }
   ],
   "source": [
    "# show learnable parameters of my_network\n",
    "for name, param in my_model.named_parameters():\n",
    "    print(name, '\\t\\t', param.shape)"
   ]
  },
  {
   "cell_type": "code",
   "execution_count": 33,
   "id": "0d6d71e0",
   "metadata": {},
   "outputs": [
    {
     "name": "stdout",
     "output_type": "stream",
     "text": [
      "Parameter containing:\n",
      "tensor([[ 0.0541,  0.0655, -0.0947,  ..., -0.0951,  0.0818, -0.0269],\n",
      "        [ 0.0130, -0.0717, -0.0305,  ..., -0.0404,  0.0701,  0.0429],\n",
      "        [-0.0484, -0.0881, -0.0626,  ..., -0.0766,  0.0164,  0.0086],\n",
      "        ...,\n",
      "        [ 0.0486, -0.0291,  0.0901,  ..., -0.0126,  0.0192, -0.0082],\n",
      "        [-0.0484, -0.0788, -0.0680,  ..., -0.0135,  0.0201,  0.0292],\n",
      "        [-0.0017,  0.0644,  0.0404,  ..., -0.0825, -0.0227, -0.0434]], requires_grad=True)\n",
      "torch.Size([200, 100])\n"
     ]
    }
   ],
   "source": [
    "# show learnable parameters (weights) of specific layer\n",
    "print(my_model.linear1.weight)\n",
    "print(my_model.linear1.weight.shape)"
   ]
  },
  {
   "cell_type": "markdown",
   "id": "daa5c06b",
   "metadata": {},
   "source": [
    "#### Funktionsweise eines Layers am Beispiel Linear Layer\n",
    "\n",
    "Um die Funktionsweise des PyTorch Linear Layers zu untersuchen wird eine lineare Transformation zuerst händisch implementiert:"
   ]
  },
  {
   "cell_type": "code",
   "execution_count": 34,
   "id": "be9b4b20",
   "metadata": {},
   "outputs": [
    {
     "data": {
      "text/plain": [
       "tensor([30., 40., 50.])"
      ]
     },
     "execution_count": 34,
     "metadata": {},
     "output_type": "execute_result"
    }
   ],
   "source": [
    "# define input tensor\n",
    "in_features = torch.tensor([1,2,3,4], dtype=torch.float32)\n",
    "\n",
    "# define weight tensor\n",
    "weight_matrix = torch.tensor([\n",
    "    [1,2,3,4],\n",
    "    [2,3,4,5],\n",
    "    [3,4,5,6]\n",
    "], dtype=torch.float32)\n",
    "\n",
    "# multiply them\n",
    "weight_matrix.matmul(in_features)"
   ]
  },
  {
   "cell_type": "markdown",
   "id": "0693e7a4",
   "metadata": {},
   "source": [
    "Nun wird die selbe Funktionalität in Form eines PyTorch Linear Layers realisiert:"
   ]
  },
  {
   "cell_type": "code",
   "execution_count": 35,
   "id": "b4fc2386",
   "metadata": {},
   "outputs": [
    {
     "data": {
      "text/plain": [
       "tensor([ 0.4696,  1.0876, -0.3592], grad_fn=<ViewBackward0>)"
      ]
     },
     "execution_count": 35,
     "metadata": {},
     "output_type": "execute_result"
    }
   ],
   "source": [
    "# define a linear layer of desired shape\n",
    "linear = nn.Linear(in_features=4, out_features=3)\n",
    "\n",
    "# apply input tensor \n",
    "linear(in_features) # this invoces forward(...) via __call__(...)"
   ]
  },
  {
   "cell_type": "markdown",
   "id": "c27cb6e7",
   "metadata": {},
   "source": [
    "Das Ergebins ist allerdings nicht das gewünschte, da PyTorch beim Erzeugen eines Layers die Gewichte standardmäßig mit Zufallswerten initialisiert."
   ]
  },
  {
   "cell_type": "code",
   "execution_count": 36,
   "id": "24f2d5bf",
   "metadata": {},
   "outputs": [
    {
     "name": "stdout",
     "output_type": "stream",
     "text": [
      "Parameter containing:\n",
      "tensor([[ 0.1454,  0.3774, -0.3319,  0.2269],\n",
      "        [ 0.0266, -0.0033,  0.1236,  0.2393],\n",
      "        [ 0.1380, -0.4898,  0.1998, -0.1169]], requires_grad=True)\n"
     ]
    }
   ],
   "source": [
    "print(linear.weight)"
   ]
  },
  {
   "cell_type": "markdown",
   "id": "cdd6cf98",
   "metadata": {},
   "source": [
    "Um die oben händisch implementierte lineare Transformation richtigzustellen muss daher der\"zufällige\" Gewichtstensor mit der korrekten _weight_matrix_ ersetzt werden."
   ]
  },
  {
   "cell_type": "code",
   "execution_count": 37,
   "id": "c7f24557",
   "metadata": {},
   "outputs": [
    {
     "data": {
      "text/plain": [
       "tensor([29.6574, 39.7395, 50.3505], grad_fn=<ViewBackward0>)"
      ]
     },
     "execution_count": 37,
     "metadata": {},
     "output_type": "execute_result"
    }
   ],
   "source": [
    "# set weight tensor to the desired one\n",
    "linear.weight = nn.Parameter(weight_matrix)\n",
    "\n",
    "# apply input tensor \n",
    "linear(in_features)"
   ]
  },
  {
   "cell_type": "markdown",
   "id": "9ab944b3",
   "metadata": {},
   "source": [
    "Auch dieses Ergebnis ist nicht korrekt, auch wenn sich bereits eine gewisse Ähnlichkeit zum Soll-Wert zeigt. Der Grund hierfür ist der Bias, der in PyTorch für ein Linear Layer standardmäßig aktiviert ist."
   ]
  },
  {
   "cell_type": "code",
   "execution_count": 38,
   "id": "5b6b69bb",
   "metadata": {},
   "outputs": [
    {
     "data": {
      "text/plain": [
       "tensor([30., 40., 50.], grad_fn=<SqueezeBackward4>)"
      ]
     },
     "execution_count": 38,
     "metadata": {},
     "output_type": "execute_result"
    }
   ],
   "source": [
    "# deactivate bias\n",
    "linear.bias=None # better provide argument False for parameter bias when constructing a linear layer\n",
    "\n",
    "# apply input tensor \n",
    "linear(in_features)"
   ]
  },
  {
   "cell_type": "markdown",
   "id": "b3ef11bf",
   "metadata": {},
   "source": [
    "Zusammenfassend kann ein PyTorch Linear Layer formal beschrieben werden durch $y=Ax+b$ wobei\n",
    "\n",
    "| Variable | Bedeutung |\n",
    "|:---|:--- |\n",
    "| $A$ | Gewichte (Tensor) |\n",
    "| $x$ | Input Tensor |\n",
    "| $b$ | Bias Tensor |\n",
    "| $y$ | Output Tensor |\n"
   ]
  },
  {
   "cell_type": "markdown",
   "id": "2ebfc394",
   "metadata": {},
   "source": [
    "#### Convolutional Neuronal Network für Fashion-MNIST\n",
    "\n",
    "##### Modell\n",
    "\n",
    "Für die Klassifikation eines Bildes aus dem Fashion-MNIST Datenbestandes kann ein einfaches Convolutional Neural Network verwendet werden. Die Architektur (das Model) des Netzes entspricht nachfolgender Abbildung:"
   ]
  },
  {
   "cell_type": "markdown",
   "id": "e4601ee5",
   "metadata": {},
   "source": [
    "<img src=\"img/fmnist_network.jpg\" alt=\"MNIST\" style=\"height: 300px;\" align=\"left\"/> "
   ]
  },
  {
   "cell_type": "markdown",
   "id": "570f7630",
   "metadata": {},
   "source": [
    "Das Modell besteht aus 2 **Convolution Layer**, beider mit quadratischen Filtern der Größe _5x5_ und **Max Pooling** der Form _2x2_ sowie 3 **Fully Connected Layer** (Dense Layer)."
   ]
  },
  {
   "cell_type": "code",
   "execution_count": 39,
   "id": "6323b201",
   "metadata": {},
   "outputs": [],
   "source": [
    "class Network(nn.Module):\n",
    "    def __init__(self):\n",
    "        super().__init__()\n",
    "        \n",
    "        self.conv1 = nn.Conv2d(in_channels=1, out_channels=6, kernel_size=5) # in: 1x image (28x28), out: 6 channels (12x12)\n",
    "        self.conv2 = nn.Conv2d(in_channels=6, out_channels=12, kernel_size=5) # in: 6x feature map (12x12), out: 12 channels (4x4)\n",
    "        self.fc1 = nn.Linear(in_features=12*4*4, out_features=120) # in: 12x feature map (4x4) flattened, out: 120, dense\n",
    "        self.fc2 = nn.Linear(in_features=120, out_features=60) # in: 120 out: 60, dense \n",
    "        self.out = nn.Linear(in_features=60, out_features=10) # in: 60, out: 10 output classes\n",
    "        \n",
    "    def forward(self,t):\n",
    "        # (1) input layer (identity...)\n",
    "        t = t\n",
    "        \n",
    "        # (2) hidden convolution layer 1\n",
    "        t = self.conv1(t)\n",
    "        t = fn.relu(t)\n",
    "        t = fn.max_pool2d(t, kernel_size=2, stride=2)\n",
    "        \n",
    "        # (3) hidden convolution layer 2\n",
    "        t = self.conv2(t)\n",
    "        t = fn.relu(t)\n",
    "        t = fn.max_pool2d(t, kernel_size=2, stride=2)\n",
    "        \n",
    "        # (4) hidden linear layer 1\n",
    "        t = t.reshape(-1, 12*4*4)\n",
    "        t = self.fc1(t)\n",
    "        t = fn.relu(t)\n",
    "\n",
    "        # (5) hidden linear layer 2\n",
    "        t = self.fc2(t)\n",
    "        t = fn.relu(t)\n",
    "        \n",
    "        # (6) output layer\n",
    "        t = self.out(t)\n",
    "        \n",
    "        # this is not used in this example, as for learning we will use x-entropy (which does softmax by itself)\n",
    "        # t = fn.softmax(t, dim=1)\n",
    "\n",
    "        return(t)"
   ]
  },
  {
   "cell_type": "markdown",
   "id": "39c4a44e",
   "metadata": {},
   "source": [
    "Zur Berechnung der ___Output___ Hyperparameter kann für quadratische Bilder und Filter folgende Formel herangezogen werden:\n",
    "\n",
    "\\begin{align}\n",
    "O = \\dfrac{n-f+2p}{s}+1\n",
    "\\end{align}\n",
    "\n",
    "| Variable | Bedeutung |\n",
    "|:---|:---|\n",
    "| $n$ | Breite und Höhe des Bildes |\n",
    "| $f$ | Breite und Höhe des Filters |\n",
    "| $p$ | Padding |\n",
    "| $s$ | Stride |\n",
    "\n",
    "Allgemein (nicht-quadratisch) gilt:\n",
    "\n",
    "\\begin{align}\n",
    "O_h = \\dfrac{n_h-f_h+2p}{s}+1\n",
    "\\end{align}\n",
    "\n",
    "\\begin{align}\n",
    "O_w = \\dfrac{n_w-f_w+2p}{s}+1\n",
    "\\end{align}\n",
    "\n",
    "| Variable | Bedeutung |\n",
    "|:---|:---|\n",
    "| $n_w$ | Breite des Bildes |\n",
    "| $n_h$ | Höhe des Bildes |\n",
    "| $f_w$ | Breite des Filters |\n",
    "| $f_h$ | Höhe des Filters |\n",
    "| $p$ | Padding |\n",
    "| $s$ | Stride |"
   ]
  },
  {
   "cell_type": "markdown",
   "id": "5e02c3d0",
   "metadata": {},
   "source": [
    "### Inferenz (Forward Pass) \n",
    "\n",
    "\n",
    "Um am Ausgang dieses Netzwerks eine Aussage/Prognose zu einem bestimmten Bild zu erhalten, muß das Bild (eigentlich der Bildtensor) vorwärts durch das Netz propagiert werden. Dieser Vorgang wird als ___Inferenz___ bezeichnet.\n",
    "\n",
    "**Hinweis**: Zum Zeitpunkt der Inferenz ist das maschinelle Lernen des Neuronalen Netzes bereits abgeschlossen. Die in PyTorch dynamische Berechnung der Gradienten der Fehlerfunktion (benötigt für den Lernvorgang) des Netzwerks bei der Vorwärtspropagation eines Tensors wird daher nicht benötigt und sollte deaktiviert werden."
   ]
  },
  {
   "cell_type": "code",
   "execution_count": 40,
   "id": "5f3f77ce",
   "metadata": {},
   "outputs": [
    {
     "data": {
      "text/plain": [
       "<torch.autograd.grad_mode.set_grad_enabled at 0x7fb19e038e20>"
      ]
     },
     "execution_count": 40,
     "metadata": {},
     "output_type": "execute_result"
    }
   ],
   "source": [
    "# deactivate dynamic gradient calculation\n",
    "torch.set_grad_enabled(False)"
   ]
  },
  {
   "cell_type": "code",
   "execution_count": 41,
   "id": "35696678",
   "metadata": {},
   "outputs": [],
   "source": [
    "# instantiate the Fashion-MNIST network\n",
    "network = Network()"
   ]
  },
  {
   "cell_type": "code",
   "execution_count": 42,
   "id": "123f759a",
   "metadata": {},
   "outputs": [
    {
     "data": {
      "text/plain": [
       "Network(\n",
       "  (conv1): Conv2d(1, 6, kernel_size=(5, 5), stride=(1, 1))\n",
       "  (conv2): Conv2d(6, 12, kernel_size=(5, 5), stride=(1, 1))\n",
       "  (fc1): Linear(in_features=192, out_features=120, bias=True)\n",
       "  (fc2): Linear(in_features=120, out_features=60, bias=True)\n",
       "  (out): Linear(in_features=60, out_features=10, bias=True)\n",
       ")"
      ]
     },
     "execution_count": 42,
     "metadata": {},
     "output_type": "execute_result"
    }
   ],
   "source": [
    "# show the model\n",
    "network"
   ]
  },
  {
   "cell_type": "markdown",
   "id": "3593af33",
   "metadata": {},
   "source": [
    "#### Inferenz für ein einzelnes Bild"
   ]
  },
  {
   "cell_type": "code",
   "execution_count": 43,
   "id": "8d503361",
   "metadata": {},
   "outputs": [],
   "source": [
    "# get a sample image\n",
    "sample = next(iter(train_set))\n",
    "image, label = sample"
   ]
  },
  {
   "cell_type": "code",
   "execution_count": 44,
   "id": "97161d1b",
   "metadata": {},
   "outputs": [
    {
     "data": {
      "text/plain": [
       "torch.Size([1, 28, 28])"
      ]
     },
     "execution_count": 44,
     "metadata": {},
     "output_type": "execute_result"
    }
   ],
   "source": [
    "image.shape"
   ]
  },
  {
   "cell_type": "markdown",
   "id": "1857ffb4",
   "metadata": {},
   "source": [
    "PyTorch erwartet als Input für Neuronale Netze nicht ein einzelnen Bild sondern einen Batch. \n",
    "> ___(batch_size, in_channels, height, width)___\n",
    "\n",
    "Dieser kann natürlich auch nur aus einem Bild bestehen."
   ]
  },
  {
   "cell_type": "code",
   "execution_count": 45,
   "id": "34758adb",
   "metadata": {},
   "outputs": [
    {
     "data": {
      "text/plain": [
       "torch.Size([1, 1, 28, 28])"
      ]
     },
     "execution_count": 45,
     "metadata": {},
     "output_type": "execute_result"
    }
   ],
   "source": [
    "# create a batch containing exactly one image by add one dimension\n",
    "image.unsqueeze(0).shape"
   ]
  },
  {
   "cell_type": "code",
   "execution_count": 46,
   "id": "c757e3b2",
   "metadata": {},
   "outputs": [],
   "source": [
    "# run inference\n",
    "pred = network(image.unsqueeze(0))"
   ]
  },
  {
   "cell_type": "code",
   "execution_count": 47,
   "id": "55255720",
   "metadata": {},
   "outputs": [
    {
     "data": {
      "text/plain": [
       "torch.Size([1, 10])"
      ]
     },
     "execution_count": 47,
     "metadata": {},
     "output_type": "execute_result"
    }
   ],
   "source": [
    "pred.shape"
   ]
  },
  {
   "cell_type": "code",
   "execution_count": 48,
   "id": "7a9621b7",
   "metadata": {},
   "outputs": [
    {
     "data": {
      "text/plain": [
       "tensor([[-0.0298,  0.0815,  0.1428,  0.1041, -0.0455,  0.0031, -0.0162, -0.1328, -0.0121,  0.0811]])"
      ]
     },
     "execution_count": 48,
     "metadata": {},
     "output_type": "execute_result"
    }
   ],
   "source": [
    "pred # outout tensor (raw)"
   ]
  },
  {
   "cell_type": "code",
   "execution_count": 49,
   "id": "a4ab807e",
   "metadata": {},
   "outputs": [
    {
     "data": {
      "text/plain": [
       "tensor([2])"
      ]
     },
     "execution_count": 49,
     "metadata": {},
     "output_type": "execute_result"
    }
   ],
   "source": [
    "pred.argmax(dim=1) # the index of the \"best\" (max) argument"
   ]
  },
  {
   "cell_type": "code",
   "execution_count": 50,
   "id": "52088cad",
   "metadata": {},
   "outputs": [
    {
     "data": {
      "text/plain": [
       "tensor([[0.0951, 0.1063, 0.1130, 0.1087, 0.0936, 0.0983, 0.0964, 0.0858, 0.0968, 0.1062]])"
      ]
     },
     "execution_count": 50,
     "metadata": {},
     "output_type": "execute_result"
    }
   ],
   "source": [
    "fn.softmax(pred, dim=1) # probability for each class"
   ]
  },
  {
   "cell_type": "markdown",
   "id": "2753a73f",
   "metadata": {},
   "source": [
    "Das Ergebnis ist natürlich unbefriedigend. Dies liegt daran, dass das verwendete Neuronale Netzwerk (noch) nicht trainiert ist."
   ]
  },
  {
   "cell_type": "markdown",
   "id": "9756b663",
   "metadata": {},
   "source": [
    "#### Inferenz für einen Batch\n",
    "\n",
    "Eines PyTorch Batche ist (wie bereits oben gezeigt) ein Tensor folgender ausprägung:\n",
    "> ___(batch_size, in_channels, height, width)___\n"
   ]
  },
  {
   "cell_type": "code",
   "execution_count": 51,
   "id": "3a06872e",
   "metadata": {},
   "outputs": [],
   "source": [
    "# get next batch from data loader\n",
    "batch = next(iter(train_loader))\n",
    "\n",
    "# decompose batch\n",
    "images, labels = batch"
   ]
  },
  {
   "cell_type": "code",
   "execution_count": 52,
   "id": "d3727b74",
   "metadata": {},
   "outputs": [
    {
     "data": {
      "text/plain": [
       "torch.Size([10, 1, 28, 28])"
      ]
     },
     "execution_count": 52,
     "metadata": {},
     "output_type": "execute_result"
    }
   ],
   "source": [
    "images.shape"
   ]
  },
  {
   "cell_type": "code",
   "execution_count": 53,
   "id": "ed9bd36c",
   "metadata": {},
   "outputs": [
    {
     "data": {
      "text/plain": [
       "torch.Size([10])"
      ]
     },
     "execution_count": 53,
     "metadata": {},
     "output_type": "execute_result"
    }
   ],
   "source": [
    "labels.shape"
   ]
  },
  {
   "cell_type": "code",
   "execution_count": 54,
   "id": "2a4cb535",
   "metadata": {},
   "outputs": [],
   "source": [
    "# run inference\n",
    "preds = network(images)"
   ]
  },
  {
   "cell_type": "code",
   "execution_count": 55,
   "id": "25f1dd5a",
   "metadata": {},
   "outputs": [
    {
     "data": {
      "text/plain": [
       "torch.Size([10, 10])"
      ]
     },
     "execution_count": 55,
     "metadata": {},
     "output_type": "execute_result"
    }
   ],
   "source": [
    "# output tensor (raw)\n",
    "preds.shape"
   ]
  },
  {
   "cell_type": "code",
   "execution_count": 56,
   "id": "61c8d0e3",
   "metadata": {},
   "outputs": [
    {
     "data": {
      "text/plain": [
       "tensor([[-0.0298,  0.0815,  0.1428,  0.1041, -0.0455,  0.0031, -0.0162, -0.1328, -0.0121,  0.0811],\n",
       "        [-0.0312,  0.0834,  0.1419,  0.1161, -0.0365,  0.0159, -0.0175, -0.1270, -0.0152,  0.0834],\n",
       "        [-0.0262,  0.0828,  0.1462,  0.0940, -0.0429,  0.0029, -0.0258, -0.1202, -0.0116,  0.0793],\n",
       "        [-0.0267,  0.0814,  0.1475,  0.0991, -0.0435,  0.0082, -0.0207, -0.1228, -0.0111,  0.0824],\n",
       "        [-0.0254,  0.0877,  0.1441,  0.1083, -0.0409,  0.0085, -0.0169, -0.1315, -0.0128,  0.0838],\n",
       "        [-0.0295,  0.0875,  0.1391,  0.1129, -0.0382,  0.0106, -0.0157, -0.1302, -0.0112,  0.0836],\n",
       "        [-0.0272,  0.0772,  0.1444,  0.0999, -0.0429,  0.0079, -0.0218, -0.1290, -0.0146,  0.0788],\n",
       "        [-0.0306,  0.0843,  0.1379,  0.1225, -0.0419,  0.0151, -0.0105, -0.1330, -0.0093,  0.0855],\n",
       "        [-0.0288,  0.0792,  0.1419,  0.0991, -0.0452,  0.0061, -0.0260, -0.1181, -0.0143,  0.0828],\n",
       "        [-0.0278,  0.0855,  0.1406,  0.1029, -0.0435,  0.0017, -0.0245, -0.1208, -0.0182,  0.0796]])"
      ]
     },
     "execution_count": 56,
     "metadata": {},
     "output_type": "execute_result"
    }
   ],
   "source": [
    "preds"
   ]
  },
  {
   "cell_type": "code",
   "execution_count": 57,
   "id": "0fb6e3eb",
   "metadata": {},
   "outputs": [
    {
     "data": {
      "text/plain": [
       "tensor([2, 2, 2, 2, 2, 2, 2, 2, 2, 2])"
      ]
     },
     "execution_count": 57,
     "metadata": {},
     "output_type": "execute_result"
    }
   ],
   "source": [
    "# most likely class for each image\n",
    "preds.argmax(dim=1)"
   ]
  },
  {
   "cell_type": "code",
   "execution_count": 58,
   "id": "216f2788",
   "metadata": {},
   "outputs": [
    {
     "data": {
      "text/plain": [
       "tensor([9, 0, 0, 3, 0, 2, 7, 2, 5, 5])"
      ]
     },
     "execution_count": 58,
     "metadata": {},
     "output_type": "execute_result"
    }
   ],
   "source": [
    "# ground truth\n",
    "labels"
   ]
  },
  {
   "cell_type": "code",
   "execution_count": 59,
   "id": "d88eaf4c",
   "metadata": {},
   "outputs": [
    {
     "data": {
      "text/plain": [
       "tensor([False, False, False, False, False,  True, False,  True, False, False])"
      ]
     },
     "execution_count": 59,
     "metadata": {},
     "output_type": "execute_result"
    }
   ],
   "source": [
    "# comparison of result to ground truth\n",
    "preds.argmax(dim=1).eq(labels)"
   ]
  },
  {
   "cell_type": "code",
   "execution_count": 60,
   "id": "85768416",
   "metadata": {},
   "outputs": [],
   "source": [
    "def num_of_correct_preds(preds, labels):\n",
    "    return preds.argmax(dim=1).eq(labels).sum().item()"
   ]
  },
  {
   "cell_type": "code",
   "execution_count": 61,
   "id": "6f18cb3f",
   "metadata": {},
   "outputs": [
    {
     "data": {
      "text/plain": [
       "2"
      ]
     },
     "execution_count": 61,
     "metadata": {},
     "output_type": "execute_result"
    }
   ],
   "source": [
    "num_of_correct_preds(preds, labels)"
   ]
  },
  {
   "cell_type": "markdown",
   "id": "06dffb17",
   "metadata": {},
   "source": [
    "### Trainieren des Modells\n",
    "\n",
    "Der Vorgang des maschinellen Lernens in einem Neuronalen Netzes umfasst folgende Schritte:\n",
    "\n",
    "1. Batch von Trainingsdaten (aus der Menge der Trainingsdaten) vorbereiten\n",
    "2. Vorwärtspropagation des Batches durch das Neuronale Netz\n",
    "3. Berechnung des Fehlers (loss)\n",
    "4. Berechnung der Gradienten der Fehlerfunktion unter Berücksichtigung der Gewichte\n",
    "5. Aktualisieren der Gewichte unter Zuhilfenahme der Gradienten\n",
    "\n",
    "Diese Schritte werden für eine gesamte **Epoche** wiederholt. Unter eine Epoche versteht man die Gesamtmenge der Trainingsdaten.\n",
    "\n",
    "Solange die Güte (Genauigkeit) des Netzwerks nicht der gewünschten entspricht wiederhole den gesamten Vorgang für weitere Epochen. \n",
    "\n",
    "**Anmerkung**: Sollte ein Modell auch nach umfangreichem wiederholten Training die geforderte Güte klar nicht erreichen, kann es sinnvoll sein, den Trainingsvorgang abzubrechen und das Modell zu überarbeiten. "
   ]
  },
  {
   "cell_type": "code",
   "execution_count": 62,
   "id": "3786c204",
   "metadata": {},
   "outputs": [
    {
     "data": {
      "text/plain": [
       "<torch.autograd.grad_mode.set_grad_enabled at 0x7fb19e038280>"
      ]
     },
     "execution_count": 62,
     "metadata": {},
     "output_type": "execute_result"
    }
   ],
   "source": [
    "# do some house keeping\n",
    "torch.set_grad_enabled(True) # should be on by default, but maybe has been turned off above"
   ]
  },
  {
   "cell_type": "markdown",
   "id": "5a91fc34",
   "metadata": {},
   "source": [
    "#### Vorbereitung eines Batches"
   ]
  },
  {
   "cell_type": "code",
   "execution_count": 63,
   "id": "6a2625d0",
   "metadata": {},
   "outputs": [],
   "source": [
    "# create a new train_loader with batch size of 100\n",
    "train_loader = torch.utils.data.DataLoader(train_set, batch_size=100)\n",
    "\n",
    "# get a batch of training data\n",
    "batch = next(iter(train_loader))\n",
    "\n",
    "images, labels = batch"
   ]
  },
  {
   "cell_type": "markdown",
   "id": "f1994b59",
   "metadata": {},
   "source": [
    "#### Vorwärtspropagation des Batches"
   ]
  },
  {
   "cell_type": "code",
   "execution_count": 64,
   "id": "a391136f",
   "metadata": {},
   "outputs": [],
   "source": [
    "# calculate predictions for the batch\n",
    "preds = network(images)"
   ]
  },
  {
   "cell_type": "markdown",
   "id": "19340ecd",
   "metadata": {},
   "source": [
    "#### Beechnung des Fehlers"
   ]
  },
  {
   "cell_type": "code",
   "execution_count": 65,
   "id": "6bcc616c",
   "metadata": {},
   "outputs": [
    {
     "data": {
      "text/plain": [
       "2.296710252761841"
      ]
     },
     "execution_count": 65,
     "metadata": {},
     "output_type": "execute_result"
    }
   ],
   "source": [
    "# calculate loss for the batch\n",
    "loss = fn.cross_entropy(preds, labels)\n",
    "loss.item()"
   ]
  },
  {
   "cell_type": "markdown",
   "id": "e1fd19d6",
   "metadata": {},
   "source": [
    "Die Interpretation dieses Wertes hängt von der gewählten Fehlerfunktion ab. Mit voranschreitendem Training des Netzes sollte sich der Wert verringern."
   ]
  },
  {
   "cell_type": "markdown",
   "id": "df935cb8",
   "metadata": {},
   "source": [
    "#### Berechnung der Gradienten\n",
    "\n",
    "Vor dem ersten Aufruf der Back-Propagation Funktion existieren (noch) keine Gradienten."
   ]
  },
  {
   "cell_type": "code",
   "execution_count": 66,
   "id": "b82ef445",
   "metadata": {},
   "outputs": [
    {
     "name": "stdout",
     "output_type": "stream",
     "text": [
      "None\n"
     ]
    }
   ],
   "source": [
    "# prior to the first call of backward() no gradients exist\n",
    "print(network.conv1.weight.grad)"
   ]
  },
  {
   "cell_type": "code",
   "execution_count": 67,
   "id": "6d8c9f7e",
   "metadata": {},
   "outputs": [],
   "source": [
    "# calculate gradients\n",
    "loss.backward()"
   ]
  },
  {
   "cell_type": "markdown",
   "id": "c1a700cc",
   "metadata": {},
   "source": [
    "Nach Durchführung der Back-Propergation stehen berechnete Gradienten zur Verfügung. Für jeden Tensor mit Gewichten wird ein korrespondierender Tensor mit den Gradienten der Gewichte erzeugt."
   ]
  },
  {
   "cell_type": "code",
   "execution_count": 68,
   "id": "2f16f722",
   "metadata": {},
   "outputs": [
    {
     "data": {
      "text/plain": [
       "torch.Size([6, 1, 5, 5])"
      ]
     },
     "execution_count": 68,
     "metadata": {},
     "output_type": "execute_result"
    }
   ],
   "source": [
    "network.conv1.weight.grad.shape"
   ]
  },
  {
   "cell_type": "markdown",
   "id": "e6dca97e",
   "metadata": {},
   "source": [
    "#### Aktualisieren der Gewichte\n",
    "\n",
    "Um die Gewichte des Neuronalen Netzes neu einzustellen, was eben der Lernvorgang ist, werden diese mittels eines sogenannten ___Optimizers___ aktualisiert. Gängige Optimizer sind:\n",
    "\n",
    "* **Stochastic Gradient Decent (SGD)**: Die Gewichtsänderung entspricht dem Produkt aus Lernrate und Gradient.\n",
    "* **Root Mean Square Propagation (RMSProp)**: Die Gewichtsänderung hängt von einem exponentiell gleitenden Durchschnitt vorherigen Gradienten und einer daraus abgeleiteten Lernrate ab.\n",
    "* **Adaptive Moment Estimation (ADAM)**: Dieser Optimizer kombiniert RMSProp mit einem Momentum."
   ]
  },
  {
   "cell_type": "code",
   "execution_count": 69,
   "id": "f76b3d17",
   "metadata": {},
   "outputs": [],
   "source": [
    "# import optimizer package\n",
    "import torch.optim as optim"
   ]
  },
  {
   "cell_type": "code",
   "execution_count": 70,
   "id": "b9074540",
   "metadata": {},
   "outputs": [],
   "source": [
    "optimizer = optim.Adam(network.parameters(), lr=0.01) # lr is the hyper parameter \"learning rate\""
   ]
  },
  {
   "cell_type": "markdown",
   "id": "e6f9a6c8",
   "metadata": {},
   "source": [
    "##### Training mit einem einzelnen Batch\n",
    "Vor dem Lernvorgang:"
   ]
  },
  {
   "cell_type": "code",
   "execution_count": 71,
   "id": "4ab9c149",
   "metadata": {},
   "outputs": [
    {
     "name": "stdout",
     "output_type": "stream",
     "text": [
      "Loss:  2.296710252761841\n",
      "Correct items: 9\n"
     ]
    }
   ],
   "source": [
    "print(\"Loss: \",loss.item())\n",
    "print(\"Correct items:\", num_of_correct_preds(preds, labels))"
   ]
  },
  {
   "cell_type": "code",
   "execution_count": 72,
   "id": "28476a46",
   "metadata": {},
   "outputs": [],
   "source": [
    "# update the weights\n",
    "optimizer.step()"
   ]
  },
  {
   "cell_type": "markdown",
   "id": "00fe43a6",
   "metadata": {},
   "source": [
    "Nach dem Lernvorgang:"
   ]
  },
  {
   "cell_type": "code",
   "execution_count": 73,
   "id": "5b447c1f",
   "metadata": {},
   "outputs": [
    {
     "name": "stdout",
     "output_type": "stream",
     "text": [
      "Loss:  2.273770570755005\n",
      "Correct items: 15\n"
     ]
    }
   ],
   "source": [
    "# get predictions for the same images\n",
    "preds = network(images)\n",
    "\n",
    "# calculate new loss\n",
    "loss = fn.cross_entropy(preds, labels)\n",
    "\n",
    "print(\"Loss: \",loss.item())\n",
    "print(\"Correct items:\", num_of_correct_preds(preds, labels))"
   ]
  },
  {
   "cell_type": "code",
   "execution_count": 74,
   "id": "9edba2d1",
   "metadata": {},
   "outputs": [
    {
     "data": {
      "text/plain": [
       "<enumerate at 0x7fb19df07080>"
      ]
     },
     "execution_count": 74,
     "metadata": {},
     "output_type": "execute_result"
    }
   ],
   "source": [
    "# do some house keeping\n",
    "enumerate(train_loader) # just reset the data loader for further usage"
   ]
  },
  {
   "cell_type": "markdown",
   "id": "6fcb8604",
   "metadata": {},
   "source": [
    "##### Training einer Epoche\n",
    "\n",
    "Um eine gesamte Epoche zu trainieren muss mit dem ___DataLoader___ über den gesamten datenbestand iteriert werden. Dabei wird jeder Batch wie oben gezeigt abgearbeitet.\n",
    "\n",
    "**Wichtig**: PyTorch akkumuliert alle Gradienten zwischen aufeinanderfolgenden Aufrufen der ___backward()__ Funktion. Da das für den Lernvorgang nicht gewünscht wird, müssen vor dem Berechnen der Gradienten des Batches alle Werte des vorausgegangenen Batches mittels der Funktion ___zero.grad()___ auf 0 zurückgesetzt werden."
   ]
  },
  {
   "cell_type": "code",
   "execution_count": 75,
   "id": "62c04100",
   "metadata": {},
   "outputs": [
    {
     "name": "stdout",
     "output_type": "stream",
     "text": [
      "epoche: 0 total correct: 46738 loss: 346.3468813896179\n"
     ]
    }
   ],
   "source": [
    "total_loss = 0\n",
    "total_correct = 0\n",
    "\n",
    "def do_epoche(epoche_loss, epoche_correct):\n",
    "    # iterate over all batches\n",
    "    for batch in train_loader:\n",
    "    \n",
    "        images, labels = batch # prepare batch\n",
    "    \n",
    "        preds = network(images) # forward pass batch\n",
    "        loss = fn.cross_entropy(preds, labels) # calculate loss\n",
    "    \n",
    "        optimizer.zero_grad() # reset gradient tensors (would be accumulated otherwise)\n",
    "    \n",
    "        loss.backward() # calculate gradients\n",
    "        optimizer.step() # update weights\n",
    "    \n",
    "        epoche_loss+=loss.item()\n",
    "        epoche_correct+=num_of_correct_preds(preds, labels)\n",
    "    \n",
    "    return epoche_loss, epoche_correct\n",
    "\n",
    "total_loss, total_correct = do_epoche(total_loss, total_correct)\n",
    "\n",
    "print(\"epoche:\", 0, \"total correct:\", total_correct, \"loss:\", total_loss)"
   ]
  },
  {
   "cell_type": "code",
   "execution_count": 76,
   "id": "b1790d79",
   "metadata": {},
   "outputs": [
    {
     "data": {
      "text/plain": [
       "0.7789666666666667"
      ]
     },
     "execution_count": 76,
     "metadata": {},
     "output_type": "execute_result"
    }
   ],
   "source": [
    "total_correct / len(train_set)"
   ]
  },
  {
   "cell_type": "code",
   "execution_count": 77,
   "id": "52fa10e6",
   "metadata": {},
   "outputs": [],
   "source": [
    "# do some house keeping\n",
    "enumerate(train_loader) # reset the data loader for further usage\n",
    "network = Network() # create a new untrained network\n",
    "optimizer = optim.Adam(network.parameters(), lr=0.01) # create a new optimizer"
   ]
  },
  {
   "cell_type": "markdown",
   "id": "29609fab",
   "metadata": {},
   "source": [
    "##### Training über mehrere Epochen"
   ]
  },
  {
   "cell_type": "code",
   "execution_count": 78,
   "id": "6209e31c",
   "metadata": {},
   "outputs": [
    {
     "name": "stdout",
     "output_type": "stream",
     "text": [
      "epoche: 0 total correct: 46937 loss: 344.17807663977146 accuracy: 0.7822833333333333\n",
      "epoche: 1 total correct: 51293 loss: 233.1632865667343 accuracy: 0.8548833333333333\n",
      "epoche: 2 total correct: 51976 loss: 214.76753947138786 accuracy: 0.8662666666666666\n",
      "epoche: 3 total correct: 52369 loss: 204.57819442451 accuracy: 0.8728166666666667\n",
      "epoche: 4 total correct: 52479 loss: 201.42270778119564 accuracy: 0.87465\n",
      "time: 49.569013833999634\n"
     ]
    }
   ],
   "source": [
    "import time\n",
    "start_time = time.time()\n",
    "\n",
    "for epoche in range(5):\n",
    "    total_loss = 0\n",
    "    total_correct = 0\n",
    "    \n",
    "    total_loss, total_correct = do_epoche(total_loss, total_correct)\n",
    "    print(\"epoche:\", epoche, \"total correct:\", total_correct, \"loss:\", total_loss, \"accuracy:\", total_correct / len(train_set))\n",
    "\n",
    "print(\"time:\", time.time() - start_time)"
   ]
  },
  {
   "cell_type": "markdown",
   "id": "43a28e02",
   "metadata": {},
   "source": [
    "#### Training auf der GPU\n",
    "\n",
    "PyTorch ermöglicht eine komfortable Nutzung von GPU Ressourcen bei der Verwendung Neuronaler Netze. Source Code kann mit geringen anpassungen sogar Hardware-Agnostisch entwickelt werden.\n",
    "\n",
    "Bei der Nutzung einer GPU (___CUDA___) ist darauf zu achten, dass alle Operanden (das Neuronale Netz, sowie alle Input Tensoren wie z.B. Batch der Bilder und Labels) auf der GPU instanziert werden."
   ]
  },
  {
   "cell_type": "code",
   "execution_count": 79,
   "id": "1c89cc6f",
   "metadata": {},
   "outputs": [],
   "source": [
    "# use GPU if available, else use the CPU for calculations\n",
    "if torch.cuda.is_available():\n",
    "    target_device=\"cuda\"\n",
    "else:\n",
    "    target_device=\"cpu\"\n",
    "    \n",
    "device=torch.device(target_device)   "
   ]
  },
  {
   "cell_type": "code",
   "execution_count": 80,
   "id": "68461762",
   "metadata": {},
   "outputs": [
    {
     "data": {
      "text/plain": [
       "device(type='cpu')"
      ]
     },
     "execution_count": 80,
     "metadata": {},
     "output_type": "execute_result"
    }
   ],
   "source": [
    "device"
   ]
  },
  {
   "cell_type": "code",
   "execution_count": 81,
   "id": "d494b918",
   "metadata": {},
   "outputs": [],
   "source": [
    "# create a new neural network and transfer it to the GPU memory\n",
    "network = Network().to(device) # move NN to GPU"
   ]
  },
  {
   "cell_type": "code",
   "execution_count": 82,
   "id": "dc46f464",
   "metadata": {},
   "outputs": [
    {
     "name": "stdout",
     "output_type": "stream",
     "text": [
      "cpu  conv1.weight\n",
      "cpu  conv1.bias\n",
      "cpu  conv2.weight\n",
      "cpu  conv2.bias\n",
      "cpu  fc1.weight\n",
      "cpu  fc1.bias\n",
      "cpu  fc2.weight\n",
      "cpu  fc2.bias\n",
      "cpu  out.weight\n",
      "cpu  out.bias\n"
     ]
    }
   ],
   "source": [
    "for n, p in network.named_parameters():\n",
    "    print(p.device, '', n)"
   ]
  },
  {
   "cell_type": "code",
   "execution_count": 83,
   "id": "47d15ee9",
   "metadata": {},
   "outputs": [],
   "source": [
    "# do some house keeping\n",
    "enumerate(train_loader) # just reset the data loader for further usage\n",
    "\n",
    "# create a new optimizer that is based on the GPU memory of the new network\n",
    "optimizer = optim.Adam(network.parameters(), lr=0.01)"
   ]
  },
  {
   "cell_type": "code",
   "execution_count": 84,
   "id": "5eeec48c",
   "metadata": {},
   "outputs": [
    {
     "name": "stdout",
     "output_type": "stream",
     "text": [
      "epoche: 0 total correct: 47500 loss: 334.7096818983555 accuracy: 0.7916666666666666\n",
      "epoche: 1 total correct: 51354 loss: 234.99755373597145 accuracy: 0.8559\n",
      "epoche: 2 total correct: 52020 loss: 215.20365089178085 accuracy: 0.867\n",
      "epoche: 3 total correct: 52243 loss: 208.2905939221382 accuracy: 0.8707166666666667\n",
      "epoche: 4 total correct: 52469 loss: 200.67240151762962 accuracy: 0.8744833333333333\n",
      "time: 56.19753861427307\n"
     ]
    }
   ],
   "source": [
    "start_time = time.time()\n",
    "\n",
    "for epoche in range(5):\n",
    "    total_loss = 0\n",
    "    total_correct = 0\n",
    "    \n",
    "    # iterate over all batches\n",
    "    for batch in train_loader:\n",
    "        images = batch[0].to(device)\n",
    "        labels = batch[1].to(device) \n",
    "    \n",
    "        preds = network(images) # forward pass batch\n",
    "        loss = fn.cross_entropy(preds, labels) # calculate loss\n",
    "    \n",
    "        optimizer.zero_grad() # reset gradient tensors (would be accumulated otherwise)\n",
    "    \n",
    "        loss.backward() # calculate gradients\n",
    "        optimizer.step() # update weights\n",
    "    \n",
    "        total_loss+=loss.item()\n",
    "        total_correct+=num_of_correct_preds(preds, labels)\n",
    "\n",
    "    print(\"epoche:\", epoche, \"total correct:\", total_correct, \"loss:\", total_loss, \"accuracy:\", total_correct / len(train_set))\n",
    "\n",
    "print(\"time:\", time.time() - start_time)\n"
   ]
  },
  {
   "cell_type": "markdown",
   "id": "af262b78",
   "metadata": {},
   "source": [
    "### Analyse und Evaluation der Ergebnisse"
   ]
  },
  {
   "cell_type": "code",
   "execution_count": 85,
   "id": "68b57c68",
   "metadata": {},
   "outputs": [
    {
     "data": {
      "text/plain": [
       "<enumerate at 0x7fb19df07480>"
      ]
     },
     "execution_count": 85,
     "metadata": {},
     "output_type": "execute_result"
    }
   ],
   "source": [
    "# do some house keeping\n",
    "enumerate(train_loader) # just reset the data loader for further usage"
   ]
  },
  {
   "cell_type": "code",
   "execution_count": 86,
   "id": "4c2eefeb",
   "metadata": {},
   "outputs": [],
   "source": [
    "# reinstantiate Network\n",
    "network = Network()\n",
    "\n",
    "# create a new optimizer that is based on the memory of the new network\n",
    "optimizer = optim.Adam(network.parameters(), lr=0.01)"
   ]
  },
  {
   "cell_type": "code",
   "execution_count": 87,
   "id": "f106883d",
   "metadata": {},
   "outputs": [
    {
     "name": "stdout",
     "output_type": "stream",
     "text": [
      "epoche: 0 total correct: 47489 loss: 331.85713474452496 accuracy: 0.7914833333333333\n",
      "epoche: 1 total correct: 51653 loss: 224.5791050195694 accuracy: 0.8608833333333333\n",
      "epoche: 2 total correct: 52112 loss: 211.4697917997837 accuracy: 0.8685333333333334\n",
      "epoche: 3 total correct: 52500 loss: 202.85657006502151 accuracy: 0.875\n",
      "epoche: 4 total correct: 52889 loss: 192.31287036836147 accuracy: 0.8814833333333333\n",
      "time: 55.245665311813354\n"
     ]
    }
   ],
   "source": [
    "# train the Network\n",
    "import time\n",
    "start_time = time.time()\n",
    "\n",
    "for epoche in range(5):\n",
    "    total_loss = 0\n",
    "    total_correct = 0\n",
    "    \n",
    "    total_loss, total_correct = do_epoche(total_loss, total_correct)\n",
    "    print(\"epoche:\", epoche, \"total correct:\", total_correct, \"loss:\", total_loss, \"accuracy:\", total_correct / len(train_set))\n",
    "\n",
    "print(\"time:\", time.time() - start_time)"
   ]
  },
  {
   "cell_type": "code",
   "execution_count": 88,
   "id": "fcdaa117",
   "metadata": {},
   "outputs": [],
   "source": [
    "# helper function that feeds all datasets from a dataloader into the neural net and\n",
    "# returns a tensor with all predictions for the input data set\n",
    "def get_all_preds(model, loader):\n",
    "    all_preds = torch.tensor([])\n",
    "    for batch in loader:\n",
    "        images, labels = batch\n",
    "        preds = model(images)\n",
    "        all_preds = torch.cat((all_preds, preds), dim=0)\n",
    "    return all_preds"
   ]
  },
  {
   "cell_type": "markdown",
   "id": "8e312dfd",
   "metadata": {},
   "source": [
    "#### Evaluation mit Testdaten\n",
    "\n",
    "Im Zuge der Datenaufbereitung wurden alle Verfügbaren Daten in Trainings- und Testdaten partitioniert. Der Trainingsprozess ist mit den Trainingsdaten vollzogen worden, für die Evaluierung des trainierten Neuronalen Netzes kommen die Testdaten, die das Neuronale Netz noch nie gesehen hat, zum Einsatz."
   ]
  },
  {
   "cell_type": "code",
   "execution_count": 89,
   "id": "7ddf83f5",
   "metadata": {},
   "outputs": [],
   "source": [
    "test_set = torchvision.datasets.FashionMNIST(\n",
    "    root = './data', # target directory for dataset\n",
    "    train = False, # select partition from which the data is taken from\n",
    "    download = True, # download if data does not exist\n",
    "    transform = transforms.Compose([transforms.ToTensor()]) # transform raw image data to tensow\n",
    ")"
   ]
  },
  {
   "cell_type": "code",
   "execution_count": 90,
   "id": "359cea43",
   "metadata": {},
   "outputs": [
    {
     "data": {
      "text/plain": [
       "10000"
      ]
     },
     "execution_count": 90,
     "metadata": {},
     "output_type": "execute_result"
    }
   ],
   "source": [
    "len(test_set)"
   ]
  },
  {
   "cell_type": "code",
   "execution_count": 91,
   "id": "bd11682f",
   "metadata": {},
   "outputs": [],
   "source": [
    "test_loader = torch.utils.data.DataLoader(\n",
    "    test_set, # dataset to operate on\n",
    "    batch_size=10000 # batch size for the DL operation, default is 1\n",
    ") "
   ]
  },
  {
   "cell_type": "markdown",
   "id": "372aed4c",
   "metadata": {},
   "source": [
    "Da beim Inferieren des Neuronalen Netzes kein Lernvorgang stattfindet, können alle Funktionen der Berechnungsverfolgung für Gradienten deaktiviert werden. Dies kann auch auf lokaler Ebene z.B. mittels eines Context Managers erfolgen:"
   ]
  },
  {
   "cell_type": "code",
   "execution_count": 92,
   "id": "8da0a285",
   "metadata": {},
   "outputs": [],
   "source": [
    "# calculate predictions\n",
    "with torch.no_grad(): # context manager deactivates gradient calculation\n",
    "    test_preds = get_all_preds(network, test_loader)"
   ]
  },
  {
   "cell_type": "markdown",
   "id": "ae1f9065",
   "metadata": {},
   "source": [
    "Eine weitere Möglichkeit die dynamische Berechnung der Gradienten lokal zu deaktivieren ist die Annotation einer Funktion mittels eines Dekorators:\n",
    "\n",
    "```python\n",
    "@torch.no_grad()\n",
    "def get_all_preds(model, loader):\n",
    "    ...\n",
    "```"
   ]
  },
  {
   "cell_type": "code",
   "execution_count": 93,
   "id": "199e9dc8",
   "metadata": {},
   "outputs": [
    {
     "name": "stdout",
     "output_type": "stream",
     "text": [
      "Network accuracy:  0.8644  got  8644  right from  10000\n"
     ]
    }
   ],
   "source": [
    "total = len(test_set.targets) # total number of images processed\n",
    "total_correct = num_of_correct_preds(test_preds, test_set.targets) # number of correct predicitions\n",
    "\n",
    "print(\"Network accuracy: \", total_correct/total, \" got \", total_correct, \" right from \", total )"
   ]
  },
  {
   "cell_type": "markdown",
   "id": "e3b25e25",
   "metadata": {},
   "source": [
    "#### Confusion Matrix\n",
    "\n",
    "Eine sogenannte ___Confusion Matrix___ ist eine 3-dimensionale Matrix die darüber Auskunft gibt, welche Klassen korrekt erkannt wurden, und bei welchen Klassen Abweichungen in der Vorhersage vorliegen.\n",
    "\n",
    "Dazu werden auf den zwei orthogonalen Achsen der Grundebene (x,y) jeweils alle Labels (Klassen) aufgetragen, um die Vorhersage des Neuronalen Netzes mit dem tatsächlichen Wert in Relation zu setzen. Die erste Achse (x) repräsentiert die Vorhersagen des Netzwerks und die zweite Achse (y) die tatsächlichen Werte (_ground truth_). In der dritten Dimension (z) wird die Gesamtzahl aller zur jewiligen Paarung aus Vorhersage und tatsächlichem Wert gehörenden Ausgaben (x,y) des Neuronalen Netzes gezählt."
   ]
  },
  {
   "cell_type": "markdown",
   "id": "04977e71",
   "metadata": {},
   "source": [
    "<img src=\"img/cm.jpg\" alt=\"Confusion Matrix\" style=\"height: 120px;\" align=\"center\"/>"
   ]
  },
  {
   "cell_type": "markdown",
   "id": "adbb1011",
   "metadata": {},
   "source": [
    "In einem perfekt trainierten Netzwerk (_accuracy=100%_) wird nur die erste Hauptdiagonale der Grundebene Werte $\\gt 0$ für die z-Achse enthalten, da alle Klassenprognosen exakt mit den tatsächlichen Klassen übereinstimmen. In _echten_ Neuronalen Netzen werden auch abseits der Hauptdiagonale Werte auftreten (eben falsche Prognosen). Mittels der Confusion Matrix wird dadurch deutlich bei welchen Klassen Prognosen scheitern, und vor allem was womit verwechselt wird."
   ]
  },
  {
   "cell_type": "code",
   "execution_count": 94,
   "id": "52f7da51",
   "metadata": {},
   "outputs": [],
   "source": [
    "# create data loader based on training data (!)\n",
    "pred_loader = torch.utils.data.DataLoader(train_set, batch_size=10000)\n",
    "\n",
    "# calculate predictions\n",
    "with torch.no_grad(): # context manager deactivates gradient calculation\n",
    "    train_preds = get_all_preds(network, pred_loader)"
   ]
  },
  {
   "cell_type": "code",
   "execution_count": 95,
   "id": "e54585f0",
   "metadata": {},
   "outputs": [
    {
     "data": {
      "text/plain": [
       "torch.Size([60000, 10])"
      ]
     },
     "execution_count": 95,
     "metadata": {},
     "output_type": "execute_result"
    }
   ],
   "source": [
    "train_preds.shape"
   ]
  },
  {
   "cell_type": "code",
   "execution_count": 96,
   "id": "224aafef",
   "metadata": {},
   "outputs": [
    {
     "data": {
      "text/plain": [
       "False"
      ]
     },
     "execution_count": 96,
     "metadata": {},
     "output_type": "execute_result"
    }
   ],
   "source": [
    "train_preds.requires_grad"
   ]
  },
  {
   "cell_type": "code",
   "execution_count": 97,
   "id": "bb8c444a",
   "metadata": {},
   "outputs": [
    {
     "data": {
      "text/plain": [
       "52732"
      ]
     },
     "execution_count": 97,
     "metadata": {},
     "output_type": "execute_result"
    }
   ],
   "source": [
    "num_of_correct_preds(train_preds, train_set.targets)"
   ]
  },
  {
   "cell_type": "markdown",
   "id": "f5f90d1f",
   "metadata": {},
   "source": [
    "##### Berechnung der Confusion Matrix"
   ]
  },
  {
   "cell_type": "code",
   "execution_count": 98,
   "id": "acb11564",
   "metadata": {},
   "outputs": [
    {
     "data": {
      "text/plain": [
       "tensor([9, 0, 0,  ..., 3, 0, 5])"
      ]
     },
     "execution_count": 98,
     "metadata": {},
     "output_type": "execute_result"
    }
   ],
   "source": [
    "# labels (ground truth)\n",
    "train_set.targets"
   ]
  },
  {
   "cell_type": "code",
   "execution_count": 99,
   "id": "79a266c1",
   "metadata": {},
   "outputs": [
    {
     "data": {
      "text/plain": [
       "tensor([9, 0, 0,  ..., 3, 0, 5])"
      ]
     },
     "execution_count": 99,
     "metadata": {},
     "output_type": "execute_result"
    }
   ],
   "source": [
    "# predictions\n",
    "train_preds.argmax(dim=1)"
   ]
  },
  {
   "cell_type": "code",
   "execution_count": 100,
   "id": "c459fad0",
   "metadata": {},
   "outputs": [],
   "source": [
    "# map ground truth to prediction for each prediction\n",
    "stacked = torch.stack(\n",
    "    (\n",
    "        train_set.targets, \n",
    "        train_preds.argmax(dim=1)\n",
    "    ),\n",
    "    dim=1\n",
    ")"
   ]
  },
  {
   "cell_type": "code",
   "execution_count": 101,
   "id": "ea840ea1",
   "metadata": {},
   "outputs": [
    {
     "data": {
      "text/plain": [
       "torch.Size([60000, 2])"
      ]
     },
     "execution_count": 101,
     "metadata": {},
     "output_type": "execute_result"
    }
   ],
   "source": [
    "stacked.shape"
   ]
  },
  {
   "cell_type": "code",
   "execution_count": 102,
   "id": "57ff9ef3",
   "metadata": {},
   "outputs": [
    {
     "data": {
      "text/plain": [
       "tensor([[9, 9],\n",
       "        [0, 0],\n",
       "        [0, 0],\n",
       "        ...,\n",
       "        [3, 3],\n",
       "        [0, 0],\n",
       "        [5, 5]])"
      ]
     },
     "execution_count": 102,
     "metadata": {},
     "output_type": "execute_result"
    }
   ],
   "source": [
    "stacked"
   ]
  },
  {
   "cell_type": "code",
   "execution_count": 103,
   "id": "30a1004b",
   "metadata": {},
   "outputs": [
    {
     "data": {
      "text/plain": [
       "[9, 9]"
      ]
     },
     "execution_count": 103,
     "metadata": {},
     "output_type": "execute_result"
    }
   ],
   "source": [
    "stacked[0].tolist()"
   ]
  },
  {
   "cell_type": "code",
   "execution_count": 104,
   "id": "94fa1043",
   "metadata": {},
   "outputs": [
    {
     "data": {
      "text/plain": [
       "tensor([[0, 0, 0, 0, 0, 0, 0, 0, 0, 0],\n",
       "        [0, 0, 0, 0, 0, 0, 0, 0, 0, 0],\n",
       "        [0, 0, 0, 0, 0, 0, 0, 0, 0, 0],\n",
       "        [0, 0, 0, 0, 0, 0, 0, 0, 0, 0],\n",
       "        [0, 0, 0, 0, 0, 0, 0, 0, 0, 0],\n",
       "        [0, 0, 0, 0, 0, 0, 0, 0, 0, 0],\n",
       "        [0, 0, 0, 0, 0, 0, 0, 0, 0, 0],\n",
       "        [0, 0, 0, 0, 0, 0, 0, 0, 0, 0],\n",
       "        [0, 0, 0, 0, 0, 0, 0, 0, 0, 0],\n",
       "        [0, 0, 0, 0, 0, 0, 0, 0, 0, 0]])"
      ]
     },
     "execution_count": 104,
     "metadata": {},
     "output_type": "execute_result"
    }
   ],
   "source": [
    "cmt = torch.zeros(10, 10, dtype=torch.int64)\n",
    "cmt"
   ]
  },
  {
   "cell_type": "code",
   "execution_count": 105,
   "id": "9705aaed",
   "metadata": {},
   "outputs": [
    {
     "data": {
      "text/plain": [
       "tensor([[5604,    2,  171,   90,   11,    2,   99,    1,   20,    0],\n",
       "        [  20, 5866,    7,   80,    6,    4,   12,    0,    5,    0],\n",
       "        [  51,    2, 5388,   55,  312,    1,  181,    0,   10,    0],\n",
       "        [ 309,   77,   72, 5409,   92,    0,   39,    0,    1,    1],\n",
       "        [  17,    8,  709,  352, 4362,    1,  531,    0,   20,    0],\n",
       "        [   1,    0,    0,    0,    0, 5812,    0,  128,   15,   44],\n",
       "        [1749,    6,  975,  135,  251,    0, 2861,    0,   23,    0],\n",
       "        [   0,    0,    0,    0,    0,   43,    0, 5807,    3,  147],\n",
       "        [  23,    3,   38,   13,   16,    7,   61,    6, 5833,    0],\n",
       "        [   0,    0,    0,    2,    0,   24,    0,  179,    5, 5790]])"
      ]
     },
     "execution_count": 105,
     "metadata": {},
     "output_type": "execute_result"
    }
   ],
   "source": [
    "for p in stacked:\n",
    "    gt, pred = p.tolist()\n",
    "    cmt[gt, pred] = cmt[gt, pred] + 1\n",
    "    \n",
    "cmt"
   ]
  },
  {
   "cell_type": "markdown",
   "id": "103b4405",
   "metadata": {},
   "source": [
    "##### Plot der Confusion Matrix"
   ]
  },
  {
   "cell_type": "code",
   "execution_count": 106,
   "id": "079df9eb",
   "metadata": {},
   "outputs": [],
   "source": [
    "from sklearn.metrics import confusion_matrix # scikit-learn\n",
    "from resources.plotcm import plot_confusion_matrix # local include\n",
    "\n",
    "cm = confusion_matrix(train_set.targets, train_preds.argmax(dim=1))"
   ]
  },
  {
   "cell_type": "code",
   "execution_count": 107,
   "id": "3c5023c8",
   "metadata": {},
   "outputs": [
    {
     "data": {
      "text/plain": [
       "numpy.ndarray"
      ]
     },
     "execution_count": 107,
     "metadata": {},
     "output_type": "execute_result"
    }
   ],
   "source": [
    "type(cm)"
   ]
  },
  {
   "cell_type": "code",
   "execution_count": 108,
   "id": "32e9185f",
   "metadata": {},
   "outputs": [
    {
     "data": {
      "text/plain": [
       "array([[5604,    2,  171,   90,   11,    2,   99,    1,   20,    0],\n",
       "       [  20, 5866,    7,   80,    6,    4,   12,    0,    5,    0],\n",
       "       [  51,    2, 5388,   55,  312,    1,  181,    0,   10,    0],\n",
       "       [ 309,   77,   72, 5409,   92,    0,   39,    0,    1,    1],\n",
       "       [  17,    8,  709,  352, 4362,    1,  531,    0,   20,    0],\n",
       "       [   1,    0,    0,    0,    0, 5812,    0,  128,   15,   44],\n",
       "       [1749,    6,  975,  135,  251,    0, 2861,    0,   23,    0],\n",
       "       [   0,    0,    0,    0,    0,   43,    0, 5807,    3,  147],\n",
       "       [  23,    3,   38,   13,   16,    7,   61,    6, 5833,    0],\n",
       "       [   0,    0,    0,    2,    0,   24,    0,  179,    5, 5790]])"
      ]
     },
     "execution_count": 108,
     "metadata": {},
     "output_type": "execute_result"
    }
   ],
   "source": [
    "cm"
   ]
  },
  {
   "cell_type": "code",
   "execution_count": 109,
   "id": "d32817f3",
   "metadata": {},
   "outputs": [
    {
     "name": "stdout",
     "output_type": "stream",
     "text": [
      "Confusion matrix, without normalization\n",
      "[[5604    2  171   90   11    2   99    1   20    0]\n",
      " [  20 5866    7   80    6    4   12    0    5    0]\n",
      " [  51    2 5388   55  312    1  181    0   10    0]\n",
      " [ 309   77   72 5409   92    0   39    0    1    1]\n",
      " [  17    8  709  352 4362    1  531    0   20    0]\n",
      " [   1    0    0    0    0 5812    0  128   15   44]\n",
      " [1749    6  975  135  251    0 2861    0   23    0]\n",
      " [   0    0    0    0    0   43    0 5807    3  147]\n",
      " [  23    3   38   13   16    7   61    6 5833    0]\n",
      " [   0    0    0    2    0   24    0  179    5 5790]]\n"
     ]
    },
    {
     "data": {
      "image/png": "[encoded data removed]",
      "text/plain": [
       "<Figure size 1000x1000 with 2 Axes>"
      ]
     },
     "metadata": {},
     "output_type": "display_data"
    }
   ],
   "source": [
    "names = (\"T-Shirt/Top\", \"Hose\", \"Pullover\", \"Kleid\", \"Mantel/Jacke\", \"Sandale\", \"Hemd\", \"Turnschuh\", \"Tasche/Beutel\", \"Stiefelette\")\n",
    "plt.figure(figsize=(10,10))\n",
    "plot_confusion_matrix(cm, names)"
   ]
  },
  {
   "cell_type": "markdown",
   "id": "3bd947e2",
   "metadata": {},
   "source": [
    "### Speichern und Laden eines trainierten Neuronalen Netzes\n",
    "\n",
    "Das erlernte \"Wissen\" eines Neuronalen Netzes befindet sich in den erlernbaren Parametern. Um dieses zu erhalten, und somit das trainierte Neuronale Netz zu persisitieren, können diese Parameter gespeichert und geladen werden. Ein erfolgreich trainiertes Neuronales Netz kann dadurch mittels Modelldefinition und gespeicherter Parameter wiederhergestellt werden, ohne einen neuerlichen Lernprozess erforderlich zu machen."
   ]
  },
  {
   "cell_type": "code",
   "execution_count": 110,
   "id": "7d4ad243",
   "metadata": {},
   "outputs": [],
   "source": [
    "file_name = \"nets/fashionMNIST.pt\""
   ]
  },
  {
   "cell_type": "markdown",
   "id": "d10e5e25",
   "metadata": {},
   "source": [
    "#### Speichern\n",
    "\n",
    "Die Funktion ___torch.save()___ speichert ein komplettes Modell in eine Datei (zip) unter der Verwendung von Pickle."
   ]
  },
  {
   "cell_type": "code",
   "execution_count": 111,
   "id": "4c82b4ca",
   "metadata": {},
   "outputs": [],
   "source": [
    "torch.save(\n",
    "    network, # neural network to be saved\n",
    "    file_name\n",
    ")"
   ]
  },
  {
   "cell_type": "markdown",
   "id": "a7c4a44e",
   "metadata": {},
   "source": [
    "#### Laden\n",
    "Die Funktion ___torch.load()___ läd ein komplettes mittels ___torch.save()___ gespeichertes Neuronales Netz.\n",
    "\n",
    "**Anmerkung**: Nach dem Aufruf von ___torch.load()___ sollte die Funktion ___eval()___ des Models aufgerufen werden um ___dropout___ und ___batch normalization___ ___Layer___ für den Inferenzvorgang korrekt zu initialisieren. "
   ]
  },
  {
   "cell_type": "code",
   "execution_count": 112,
   "id": "9baeab1a",
   "metadata": {},
   "outputs": [
    {
     "data": {
      "text/plain": [
       "Network(\n",
       "  (conv1): Conv2d(1, 6, kernel_size=(5, 5), stride=(1, 1))\n",
       "  (conv2): Conv2d(6, 12, kernel_size=(5, 5), stride=(1, 1))\n",
       "  (fc1): Linear(in_features=192, out_features=120, bias=True)\n",
       "  (fc2): Linear(in_features=120, out_features=60, bias=True)\n",
       "  (out): Linear(in_features=60, out_features=10, bias=True)\n",
       ")"
      ]
     },
     "execution_count": 112,
     "metadata": {},
     "output_type": "execute_result"
    }
   ],
   "source": [
    "network2 = torch.load(\n",
    "    file_name,\n",
    "    weights_only=False\n",
    ")\n",
    "network2.eval()"
   ]
  }
 ],
 "metadata": {
  "kernelspec": {
   "display_name": "PPMROB",
   "language": "python",
   "name": "ppmrob"
  },
  "language_info": {
   "codemirror_mode": {
    "name": "ipython",
    "version": 3
   },
   "file_extension": ".py",
   "mimetype": "text/x-python",
   "name": "python",
   "nbconvert_exporter": "python",
   "pygments_lexer": "ipython3",
   "version": "3.9.19"
  }
 },
 "nbformat": 4,
 "nbformat_minor": 5
}
